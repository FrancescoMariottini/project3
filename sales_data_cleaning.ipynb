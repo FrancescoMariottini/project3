{
 "cells": [
  {
   "cell_type": "markdown",
   "metadata": {},
   "source": [
    "# Data Cleaning"
   ]
  },
  {
   "cell_type": "markdown",
   "metadata": {},
   "source": [
    "### Step 1. Import the necessary libraries"
   ]
  },
  {
   "cell_type": "code",
   "execution_count": 2,
   "outputs": [
    {
     "name": "stdout",
     "output_type": "stream",
     "text": [
      "1\n",
      "[1 2 3 4]\n"
     ]
    }
   ],
   "source": [
    "import pandas as pd\n",
    "import numpy as np\n"
   ],
   "metadata": {
    "collapsed": false,
    "pycharm": {
     "name": "#%%\n"
    }
   }
  },
  {
   "cell_type": "code",
   "execution_count": 6,
   "metadata": {},
   "outputs": [],
   "source": [
    "\n",
    "import numpy as np\n",
    "import pandas as pd"
   ]
  },
  {
   "cell_type": "markdown",
   "metadata": {},
   "source": [
    "### Step 2. Set the url we want to import the data from"
   ]
  },
  {
   "cell_type": "code",
   "execution_count": 32,
   "metadata": {},
   "outputs": [],
   "source": [
    "url = 'https://raw.githubusercontent.com/FrancescoMariottini/project3/main/inputs/all_sales_data.csv'\n",
    "df=pd.read_csv(url, low_memory=False,  skipinitialspace=True)"
   ]
  },
  {
   "cell_type": "markdown",
   "metadata": {},
   "source": [
    "### Step 3. Assign it to a pandas DataFrame"
   ]
  },
  {
   "cell_type": "code",
   "execution_count": 5,
   "metadata": {},
   "outputs": [
    {
     "data": {
      "text/html": [
       "<div>\n",
       "<style scoped>\n",
       "    .dataframe tbody tr th:only-of-type {\n",
       "        vertical-align: middle;\n",
       "    }\n",
       "\n",
       "    .dataframe tbody tr th {\n",
       "        vertical-align: top;\n",
       "    }\n",
       "\n",
       "    .dataframe thead th {\n",
       "        text-align: right;\n",
       "    }\n",
       "</style>\n",
       "<table border=\"1\" class=\"dataframe\">\n",
       "  <thead>\n",
       "    <tr style=\"text-align: right;\">\n",
       "      <th></th>\n",
       "      <th>source</th>\n",
       "      <th>hyperlink</th>\n",
       "      <th>locality</th>\n",
       "      <th>postcode</th>\n",
       "      <th>house_is</th>\n",
       "      <th>property_subtype</th>\n",
       "      <th>price</th>\n",
       "      <th>sale</th>\n",
       "      <th>rooms_number</th>\n",
       "      <th>area</th>\n",
       "      <th>...</th>\n",
       "      <th>open_fire</th>\n",
       "      <th>terrace</th>\n",
       "      <th>terrace_area</th>\n",
       "      <th>garden</th>\n",
       "      <th>garden_area</th>\n",
       "      <th>land_surface</th>\n",
       "      <th>land_plot_surface</th>\n",
       "      <th>facades_number</th>\n",
       "      <th>swimming_pool_has</th>\n",
       "      <th>building_state</th>\n",
       "    </tr>\n",
       "  </thead>\n",
       "  <tbody>\n",
       "    <tr>\n",
       "      <th>0</th>\n",
       "      <td>6</td>\n",
       "      <td>8901695</td>\n",
       "      <td>4180</td>\n",
       "      <td>4180.0</td>\n",
       "      <td>True</td>\n",
       "      <td>MIXED_USE_BUILDING</td>\n",
       "      <td>295000</td>\n",
       "      <td>NaN</td>\n",
       "      <td>3</td>\n",
       "      <td>242</td>\n",
       "      <td>...</td>\n",
       "      <td>False</td>\n",
       "      <td>True</td>\n",
       "      <td>36</td>\n",
       "      <td>True</td>\n",
       "      <td>1000</td>\n",
       "      <td>1403</td>\n",
       "      <td>1403</td>\n",
       "      <td>0</td>\n",
       "      <td>False</td>\n",
       "      <td>GOOD</td>\n",
       "    </tr>\n",
       "    <tr>\n",
       "      <th>1</th>\n",
       "      <td>6</td>\n",
       "      <td>8747010</td>\n",
       "      <td>8730</td>\n",
       "      <td>8730.0</td>\n",
       "      <td>True</td>\n",
       "      <td>VILLA</td>\n",
       "      <td>675000</td>\n",
       "      <td>NaN</td>\n",
       "      <td>4</td>\n",
       "      <td>349</td>\n",
       "      <td>...</td>\n",
       "      <td>False</td>\n",
       "      <td>False</td>\n",
       "      <td>0</td>\n",
       "      <td>True</td>\n",
       "      <td>977</td>\n",
       "      <td>1526</td>\n",
       "      <td>1526</td>\n",
       "      <td>0</td>\n",
       "      <td>False</td>\n",
       "      <td>AS_NEW</td>\n",
       "    </tr>\n",
       "    <tr>\n",
       "      <th>2</th>\n",
       "      <td>6</td>\n",
       "      <td>8775843</td>\n",
       "      <td>4020</td>\n",
       "      <td>4020.0</td>\n",
       "      <td>True</td>\n",
       "      <td>APARTMENT_BLOCK</td>\n",
       "      <td>250000</td>\n",
       "      <td>NaN</td>\n",
       "      <td>5</td>\n",
       "      <td>303</td>\n",
       "      <td>...</td>\n",
       "      <td>False</td>\n",
       "      <td>False</td>\n",
       "      <td>0</td>\n",
       "      <td>False</td>\n",
       "      <td>0</td>\n",
       "      <td>760</td>\n",
       "      <td>760</td>\n",
       "      <td>0</td>\n",
       "      <td>False</td>\n",
       "      <td>TO_RENOVATE</td>\n",
       "    </tr>\n",
       "    <tr>\n",
       "      <th>3</th>\n",
       "      <td>6</td>\n",
       "      <td>8910441</td>\n",
       "      <td>1200</td>\n",
       "      <td>1200.0</td>\n",
       "      <td>True</td>\n",
       "      <td>HOUSE</td>\n",
       "      <td>545000</td>\n",
       "      <td>NaN</td>\n",
       "      <td>4</td>\n",
       "      <td>235</td>\n",
       "      <td>...</td>\n",
       "      <td>False</td>\n",
       "      <td>False</td>\n",
       "      <td>0</td>\n",
       "      <td>False</td>\n",
       "      <td>0</td>\n",
       "      <td>63</td>\n",
       "      <td>63</td>\n",
       "      <td>0</td>\n",
       "      <td>False</td>\n",
       "      <td>JUST_RENOVATED</td>\n",
       "    </tr>\n",
       "    <tr>\n",
       "      <th>4</th>\n",
       "      <td>6</td>\n",
       "      <td>8758672</td>\n",
       "      <td>1190</td>\n",
       "      <td>1190.0</td>\n",
       "      <td>True</td>\n",
       "      <td>MIXED_USE_BUILDING</td>\n",
       "      <td>500000</td>\n",
       "      <td>NaN</td>\n",
       "      <td>2</td>\n",
       "      <td>220</td>\n",
       "      <td>...</td>\n",
       "      <td>False</td>\n",
       "      <td>False</td>\n",
       "      <td>0</td>\n",
       "      <td>True</td>\n",
       "      <td>60</td>\n",
       "      <td>193</td>\n",
       "      <td>193</td>\n",
       "      <td>0</td>\n",
       "      <td>False</td>\n",
       "      <td>AS_NEW</td>\n",
       "    </tr>\n",
       "    <tr>\n",
       "      <th>...</th>\n",
       "      <td>...</td>\n",
       "      <td>...</td>\n",
       "      <td>...</td>\n",
       "      <td>...</td>\n",
       "      <td>...</td>\n",
       "      <td>...</td>\n",
       "      <td>...</td>\n",
       "      <td>...</td>\n",
       "      <td>...</td>\n",
       "      <td>...</td>\n",
       "      <td>...</td>\n",
       "      <td>...</td>\n",
       "      <td>...</td>\n",
       "      <td>...</td>\n",
       "      <td>...</td>\n",
       "      <td>...</td>\n",
       "      <td>...</td>\n",
       "      <td>...</td>\n",
       "      <td>...</td>\n",
       "      <td>...</td>\n",
       "      <td>...</td>\n",
       "    </tr>\n",
       "    <tr>\n",
       "      <th>75871</th>\n",
       "      <td>1</td>\n",
       "      <td>https://www.immoweb.be/en/classified/penthouse...</td>\n",
       "      <td>Blankenberge</td>\n",
       "      <td>8370.0</td>\n",
       "      <td>False</td>\n",
       "      <td>PENTHOUSE</td>\n",
       "      <td>339000</td>\n",
       "      <td>residential_sale</td>\n",
       "      <td>2</td>\n",
       "      <td>115</td>\n",
       "      <td>...</td>\n",
       "      <td>False</td>\n",
       "      <td>NaN</td>\n",
       "      <td>True</td>\n",
       "      <td>NaN</td>\n",
       "      <td>NaN</td>\n",
       "      <td>NaN</td>\n",
       "      <td>NaN</td>\n",
       "      <td>NaN</td>\n",
       "      <td>False</td>\n",
       "      <td>NaN</td>\n",
       "    </tr>\n",
       "    <tr>\n",
       "      <th>75872</th>\n",
       "      <td>1</td>\n",
       "      <td>https://www.immoweb.be/en/classified/penthouse...</td>\n",
       "      <td>Sint-Kruis</td>\n",
       "      <td>8310.0</td>\n",
       "      <td>False</td>\n",
       "      <td>PENTHOUSE</td>\n",
       "      <td>649000</td>\n",
       "      <td>residential_sale</td>\n",
       "      <td>2</td>\n",
       "      <td>98</td>\n",
       "      <td>...</td>\n",
       "      <td>False</td>\n",
       "      <td>NaN</td>\n",
       "      <td>True</td>\n",
       "      <td>28</td>\n",
       "      <td>NaN</td>\n",
       "      <td>NaN</td>\n",
       "      <td>NaN</td>\n",
       "      <td>NaN</td>\n",
       "      <td>False</td>\n",
       "      <td>AS_NEW</td>\n",
       "    </tr>\n",
       "    <tr>\n",
       "      <th>75873</th>\n",
       "      <td>1</td>\n",
       "      <td>https://www.immoweb.be/en/classified/apartment...</td>\n",
       "      <td>Liège</td>\n",
       "      <td>4020.0</td>\n",
       "      <td>False</td>\n",
       "      <td>APARTMENT</td>\n",
       "      <td>25000</td>\n",
       "      <td>annuity_monthly_amount</td>\n",
       "      <td>3</td>\n",
       "      <td>142</td>\n",
       "      <td>...</td>\n",
       "      <td>NaN</td>\n",
       "      <td>NaN</td>\n",
       "      <td>True</td>\n",
       "      <td>4</td>\n",
       "      <td>NaN</td>\n",
       "      <td>NaN</td>\n",
       "      <td>NaN</td>\n",
       "      <td>NaN</td>\n",
       "      <td>NaN</td>\n",
       "      <td>AS_NEW</td>\n",
       "    </tr>\n",
       "    <tr>\n",
       "      <th>75874</th>\n",
       "      <td>1</td>\n",
       "      <td>https://www.immoweb.be/en/classified/apartment...</td>\n",
       "      <td>Huy</td>\n",
       "      <td>4500.0</td>\n",
       "      <td>False</td>\n",
       "      <td>APARTMENT</td>\n",
       "      <td>99000</td>\n",
       "      <td>residential_sale</td>\n",
       "      <td>3</td>\n",
       "      <td>210</td>\n",
       "      <td>...</td>\n",
       "      <td>NaN</td>\n",
       "      <td>NaN</td>\n",
       "      <td>NaN</td>\n",
       "      <td>NaN</td>\n",
       "      <td>NaN</td>\n",
       "      <td>NaN</td>\n",
       "      <td>NaN</td>\n",
       "      <td>NaN</td>\n",
       "      <td>NaN</td>\n",
       "      <td>NaN</td>\n",
       "    </tr>\n",
       "    <tr>\n",
       "      <th>75875</th>\n",
       "      <td>1</td>\n",
       "      <td>https://www.immoweb.be/en/classified/apartment...</td>\n",
       "      <td>Verviers</td>\n",
       "      <td>4800.0</td>\n",
       "      <td>False</td>\n",
       "      <td>APARTMENT</td>\n",
       "      <td>109000</td>\n",
       "      <td>residential_sale</td>\n",
       "      <td>1</td>\n",
       "      <td>70</td>\n",
       "      <td>...</td>\n",
       "      <td>NaN</td>\n",
       "      <td>NaN</td>\n",
       "      <td>NaN</td>\n",
       "      <td>NaN</td>\n",
       "      <td>NaN</td>\n",
       "      <td>NaN</td>\n",
       "      <td>NaN</td>\n",
       "      <td>NaN</td>\n",
       "      <td>NaN</td>\n",
       "      <td>NaN</td>\n",
       "    </tr>\n",
       "  </tbody>\n",
       "</table>\n",
       "<p>75876 rows × 22 columns</p>\n",
       "</div>"
      ],
      "text/plain": [
       "       source                                          hyperlink   \\\n",
       "0            6                                            8901695   \n",
       "1            6                                            8747010   \n",
       "2            6                                            8775843   \n",
       "3            6                                            8910441   \n",
       "4            6                                            8758672   \n",
       "...        ...                                                ...   \n",
       "75871        1  https://www.immoweb.be/en/classified/penthouse...   \n",
       "75872        1  https://www.immoweb.be/en/classified/penthouse...   \n",
       "75873        1  https://www.immoweb.be/en/classified/apartment...   \n",
       "75874        1  https://www.immoweb.be/en/classified/apartment...   \n",
       "75875        1  https://www.immoweb.be/en/classified/apartment...   \n",
       "\n",
       "           locality  postcode  house_is    property_subtype    price  \\\n",
       "0              4180    4180.0       True  MIXED_USE_BUILDING  295000   \n",
       "1              8730    8730.0       True               VILLA  675000   \n",
       "2              4020    4020.0       True     APARTMENT_BLOCK  250000   \n",
       "3              1200    1200.0       True               HOUSE  545000   \n",
       "4              1190    1190.0       True  MIXED_USE_BUILDING  500000   \n",
       "...             ...       ...        ...                 ...     ...   \n",
       "75871  Blankenberge    8370.0      False           PENTHOUSE  339000   \n",
       "75872    Sint-Kruis    8310.0      False           PENTHOUSE  649000   \n",
       "75873         Liège    4020.0      False           APARTMENT   25000   \n",
       "75874           Huy    4500.0      False           APARTMENT   99000   \n",
       "75875      Verviers    4800.0      False           APARTMENT  109000   \n",
       "\n",
       "                         sale rooms_number  area   ... open_fire  terrace   \\\n",
       "0                         NaN             3   242  ...      False     True   \n",
       "1                         NaN             4   349  ...      False    False   \n",
       "2                         NaN             5   303  ...      False    False   \n",
       "3                         NaN             4   235  ...      False    False   \n",
       "4                         NaN             2   220  ...      False    False   \n",
       "...                       ...           ...   ...  ...        ...      ...   \n",
       "75871        residential_sale             2   115  ...      False      NaN   \n",
       "75872        residential_sale             2    98  ...      False      NaN   \n",
       "75873  annuity_monthly_amount             3   142  ...        NaN      NaN   \n",
       "75874        residential_sale             3   210  ...        NaN      NaN   \n",
       "75875        residential_sale             1    70  ...        NaN      NaN   \n",
       "\n",
       "      terrace_area garden  garden_area land_surface land_plot_surface   \\\n",
       "0               36    True        1000         1403               1403   \n",
       "1                0    True         977         1526               1526   \n",
       "2                0   False           0          760                760   \n",
       "3                0   False           0           63                 63   \n",
       "4                0    True          60          193                193   \n",
       "...            ...     ...         ...          ...                ...   \n",
       "75871         True     NaN         NaN          NaN                NaN   \n",
       "75872         True      28         NaN          NaN                NaN   \n",
       "75873         True       4         NaN          NaN                NaN   \n",
       "75874          NaN     NaN         NaN          NaN                NaN   \n",
       "75875          NaN     NaN         NaN          NaN                NaN   \n",
       "\n",
       "      facades_number  swimming_pool_has  building_state   \n",
       "0                   0              False            GOOD  \n",
       "1                   0              False          AS_NEW  \n",
       "2                   0              False     TO_RENOVATE  \n",
       "3                   0              False  JUST_RENOVATED  \n",
       "4                   0              False          AS_NEW  \n",
       "...               ...                ...             ...  \n",
       "75871             NaN              False             NaN  \n",
       "75872             NaN              False          AS_NEW  \n",
       "75873             NaN                NaN          AS_NEW  \n",
       "75874             NaN                NaN             NaN  \n",
       "75875             NaN                NaN             NaN  \n",
       "\n",
       "[75876 rows x 22 columns]"
      ]
     },
     "execution_count": 5,
     "metadata": {},
     "output_type": "execute_result"
    }
   ],
   "source": [
    "#df = pd.read_csv(url)\n",
    "df"
   ]
  },
  {
   "cell_type": "code",
   "execution_count": 6,
   "metadata": {},
   "outputs": [
    {
     "data": {
      "text/plain": [
       "source                  int64\n",
       "hyperlink              object\n",
       "locality               object\n",
       "postcode              float64\n",
       "house_is                 bool\n",
       "property_subtype       object\n",
       "price                  object\n",
       "sale                   object\n",
       "rooms_number           object\n",
       "area                   object\n",
       "kitchen_has            object\n",
       "furnished              object\n",
       "open_fire              object\n",
       "terrace                object\n",
       "terrace_area           object\n",
       "garden                 object\n",
       "garden_area            object\n",
       "land_surface           object\n",
       "land_plot_surface      object\n",
       "facades_number         object\n",
       "swimming_pool_has      object\n",
       "building_state         object\n",
       "dtype: object"
      ]
     },
     "execution_count": 6,
     "metadata": {},
     "output_type": "execute_result"
    }
   ],
   "source": [
    "df.dtypes"
   ]
  },
  {
   "cell_type": "markdown",
   "source": [
    "### Step 4. Fields cleaning\n"
   ],
   "metadata": {
    "collapsed": false
   }
  },
  {
   "cell_type": "code",
   "execution_count": null,
   "outputs": [],
   "source": [],
   "metadata": {
    "collapsed": false,
    "pycharm": {
     "name": "#%%\n"
    }
   }
  },
  {
   "cell_type": "code",
   "execution_count": 9,
   "outputs": [
    {
     "name": "stdout",
     "output_type": "stream",
     "text": [
      "----------- Price ----------------\n",
      "object\n",
      "Percentage of missing values in price is 1 %\n",
      "---------------------------\n"
     ]
    }
   ],
   "source": [
    "print(\"----------- Price ----------------\")\n",
    "# Price Field\n",
    "import re\n",
    "\n",
    "# #price_correction=lambda x: str(x)  if str(x).isdigit() =='True' else re.search(r'\\d+', str(x)).group()\n",
    "#\n",
    "# def price_correction(x):\n",
    "#     if x == None\n",
    "#         x=np.nan\n",
    "#     else:\n",
    "#         if str(x).isdigit() == 'True':\n",
    "#             x=str(x)\n",
    "#         else:\n",
    "#             x=re.search(r'\\d+', str(x)).group()\n",
    "#     return (x)\n",
    "\n",
    "# df['price']=df['price'].map(price_correction)\n",
    "print(df['price'].dtype)\n",
    "# df['price']=pd.to_numeric(df['price'], errors='coerce').div(1000)\n",
    "# df['price']=df['price'].replace(0,np.nan)\n",
    "# df= df.rename(columns={'price': 'price_k'})\n",
    "\n",
    "missing_percentage_price=(df['price'].isnull().sum() * 100)/df.shape[0]\n",
    "print(\"Percentage of missing values in price is {} %\".format(int(missing_percentage_price)))\n",
    "print(\"---------------------------\")"
   ],
   "metadata": {
    "collapsed": false,
    "pycharm": {
     "name": "#%%\n"
    }
   }
  },
  {
   "cell_type": "code",
   "execution_count": 20,
   "outputs": [
    {
     "name": "stdout",
     "output_type": "stream",
     "text": [
      "----------- furnished ----------------\n",
      "[False True nan]\n",
      "Percentage of missing values in furnished is 13 %\n",
      "-------------------------------------\n"
     ]
    }
   ],
   "source": [
    "print(\"----------- furnished ----------------\")\n",
    "df= df.rename(columns={'furnished ': 'furnished'})\n",
    "print(df['furnished'].unique())\n",
    "#df['furnished']=df['furnished'].astype('bool')\n",
    "missing_percentage_furnished=(df['furnished'].isnull().sum() * 100)/df.shape[0]\n",
    "print(\"Percentage of missing values in furnished is {} %\".format(int(missing_percentage_furnished)))\n",
    "print(\"-------------------------------------\")\n"
   ],
   "metadata": {
    "collapsed": false,
    "pycharm": {
     "name": "#%%\n"
    }
   }
  },
  {
   "cell_type": "code",
   "execution_count": 33,
   "outputs": [
    {
     "name": "stdout",
     "output_type": "stream",
     "text": [
      "----------- garden ----------------\n",
      "['True' 'False' nan '16.0' '36.0' '3749.0' '15.0' '45.0' '31.0' '40.0'\n",
      " '25.0' '20.0' '120.0' '30.0' '60.0' '19.0' '7.0' '127.0' '28.0' '50.0'\n",
      " '23.0' '26.0' '6.0' '10.0' '70.0' '4.0' '100.0' '64.0' '12.0' '17.0'\n",
      " '24.0' '22.0' '94.0' '55.0' '21.0' '145.0' '47.0' '8.0' '5.0' '18.0'\n",
      " '80.0' '170.0' '13.0' '38.0' '9.0' '150.0' '27.0' '66.0' '125.0' '48.0'\n",
      " '85.0' '75.0' '37.0' '11.0' '35.0' '32.0' '41.0' '114.0' '1.0' '14.0'\n",
      " '44.0' '74.0' '53.0' '161.0' '300.0' '43.0' '29.0' '90.0' '142.0' '105.0'\n",
      " '61.0' '62.0' '96.0' '108.0' '157.0' '2.0' '54.0' '34.0' '180.0' '3.0'\n",
      " '450.0' '112.0' '280.0' '33.0' '200.0' '140.0' '65.0' '196.0' '56.0'\n",
      " '42.0' '51.0' '111.0' '86.0' '77.0' '110.0' '63.0' '39.0' '57.0' '88.0'\n",
      " '93.0' '141.0' '72.0' '68.0' '400.0' '159.0' '76.0' '95.0' '46.0' '122.0'\n",
      " '52.0' '89.0' '271.0' '160.0' '78.0' '59.0' '97.0' '124.0' '49.0' '188.0'\n",
      " '81.0' '220.0' '350.0' '261.0' '123.0' '71.0' '250.0' '246.0' '213.0'\n",
      " '115.0' '230.0' '91.0' '58.0' '138.0' '708.0' '165.0' '144.0' '500.0'\n",
      " '83.0' '73.0' '67.0' '101.0' '82.0' '130.0' '69.0' '175.0' '312.0']\n",
      "[True False nan]\n",
      "Percentage of missing values in garden is 12 %\n",
      "-------------------------------------\n"
     ]
    }
   ],
   "source": [
    "print(\"----------- garden ----------------\")\n",
    "df= df.rename(columns={'garden ': 'garden'})\n",
    "print(df['garden'].unique())\n",
    "\n",
    "#f_t=lambda x: x.capitalize() if x =='True' or x=='False' or x=='FALSE' or x=='TRUE' else np.nan\n",
    "\n",
    "def f_t(x):\n",
    "    if (x =='True' or x=='False' or x=='FALSE' or x=='TRUE'):\n",
    "        x=x.capitalize()\n",
    "        if x==\"True\":\n",
    "            x=bool(True)\n",
    "        else:\n",
    "            x=bool(False)\n",
    "    elif (x =='1' or x=='0'):\n",
    "        if x =='1':\n",
    "            x=bool(True)\n",
    "        else:\n",
    "            x=bool(False)\n",
    "\n",
    "    else:\n",
    "        x=np.nan\n",
    "    return(x)\n",
    "\n",
    "df['garden']=df['garden'].apply(f_t)\n",
    "df['garden']=df['garden']\n",
    "print(df['garden'].unique())\n",
    "missing_percentage_garden=(df['garden'].isnull().sum() * 100)/df.shape[0]\n",
    "print(\"Percentage of missing values in garden is {} %\".format(int(missing_percentage_garden)))\n",
    "print(\"-------------------------------------\")"
   ],
   "metadata": {
    "collapsed": false,
    "pycharm": {
     "name": "#%%\n"
    }
   }
  },
  {
   "cell_type": "code",
   "execution_count": 13,
   "outputs": [
    {
     "name": "stdout",
     "output_type": "stream",
     "text": [
      "----------- garden_area ----------------\n",
      "Percentage of missing values in garden_area is 33 %\n",
      "-------------------------------------\n"
     ]
    }
   ],
   "source": [
    "print(\"----------- garden_area ----------------\")\n",
    "df['garden_area']=pd.to_numeric(df['garden_area'], errors='coerce')\n",
    "#do we fill empty with 0????????????????\n",
    "#df['garden_area']=df['garden_area'].fillna(0).astype(np.int32)\n",
    "missing_percentage_garden_area=(df['garden_area'].isnull().sum() * 100)/df.shape[0]\n",
    "print(\"Percentage of missing values in garden_area is {} %\".format(int(missing_percentage_garden_area)))\n",
    "print(\"-------------------------------------\")"
   ],
   "metadata": {
    "collapsed": false,
    "pycharm": {
     "name": "#%%\n"
    }
   }
  },
  {
   "cell_type": "code",
   "execution_count": 22,
   "outputs": [
    {
     "name": "stdout",
     "output_type": "stream",
     "text": [
      "----------- terrace ----------------\n",
      "['True' 'False' nan]\n",
      "Percentage of missing values in terrace is 22 %\n",
      "-------------------------------------\n"
     ]
    }
   ],
   "source": [
    "print(\"----------- terrace ----------------\")\n",
    "df= df.rename(columns={'terrace ': 'terrace'})\n",
    "df['terrace']=df['terrace'].fillna(np.nan).apply(f_t)\n",
    "#df['terrace']=df['terrace'].astype('bool')\n",
    "print(df['terrace'].unique())\n",
    "missing_percentage_terrace=(df['terrace'].isnull().sum() * 100)/df.shape[0]\n",
    "print(\"Percentage of missing values in terrace is {} %\".format(int(missing_percentage_terrace)))\n",
    "print(\"-------------------------------------\")"
   ],
   "metadata": {
    "collapsed": false,
    "pycharm": {
     "name": "#%%\n"
    }
   }
  },
  {
   "cell_type": "code",
   "execution_count": 23,
   "outputs": [
    {
     "name": "stdout",
     "output_type": "stream",
     "text": [
      "----------- house_is ----------------\n",
      "['source', 'hyperlink', 'locality', 'postcode', 'house_is', 'property_subtype', 'price', 'sale', 'rooms_number', 'area', 'kitchen_has', 'furnished', 'open_fire', 'terrace', 'terrace_area', 'garden', 'garden_area', 'land_surface', 'land_plot_surface', 'facades_number', 'swimming_pool_has', 'building_state']\n",
      "[nan]\n",
      "[nan]\n",
      "Percentage of missing values in house_is is 100 %\n",
      "-------------------------------------\n"
     ]
    }
   ],
   "source": [
    "print(\"----------- house_is ----------------\")\n",
    "print(df.columns.tolist())\n",
    "#df= df.rename(columns={'house_is ': 'house_is'})\n",
    "print(df['house_is'].unique())\n",
    "df['house_is']=df['house_is'].fillna(np.nan)\n",
    "#df['house_is']=df['house_is'].astype('bool')\n",
    "print(df['house_is'].unique())\n",
    "missing_percentage_house_is=(df['house_is'].isnull().sum() * 100)/df.shape[0]\n",
    "print(\"Percentage of missing values in house_is is {} %\".format(int(missing_percentage_house_is)))\n",
    "print(\"-------------------------------------\")"
   ],
   "metadata": {
    "collapsed": false,
    "pycharm": {
     "name": "#%%\n"
    }
   }
  },
  {
   "cell_type": "code",
   "execution_count": 25,
   "outputs": [
    {
     "name": "stdout",
     "output_type": "stream",
     "text": [
      "----------- 'swimming_pool_has ' ----------------\n",
      "['False' 'True' nan 'FALSE' 'TRUE' '0']\n",
      "['False' 'True' nan]\n",
      "Percentage of missing values in swimming_pool_has is 28 %\n",
      "-------------------------------------\n"
     ]
    }
   ],
   "source": [
    "print(\"----------- 'swimming_pool_has ' ----------------\")\n",
    "df= df.rename(columns={'swimming_pool_has ': 'swimming_pool_has'})\n",
    "print(df['swimming_pool_has'].unique())\n",
    "df['swimming_pool_has']=df['swimming_pool_has'].fillna(np.nan).apply(f_t)\n",
    "#df['swimming_pool_has']=df['swimming_pool_has'].astype('bool')\n",
    "print(df['swimming_pool_has'].unique())\n",
    "missing_percentage_swimming_pool_has=(df['swimming_pool_has'].isnull().sum() * 100)/df.shape[0]\n",
    "print(\"Percentage of missing values in swimming_pool_has is {} %\".format(int(missing_percentage_swimming_pool_has)))\n",
    "print(\"-------------------------------------\")"
   ],
   "metadata": {
    "collapsed": false,
    "pycharm": {
     "name": "#%%\n"
    }
   }
  },
  {
   "cell_type": "code",
   "execution_count": 26,
   "outputs": [
    {
     "name": "stdout",
     "output_type": "stream",
     "text": [
      "----------- 'open_fire ' ----------------\n",
      "[False True nan]\n",
      "Percentage of missing values in open_fire is 6 %\n",
      "-------------------------------------\n"
     ]
    }
   ],
   "source": [
    "print(\"----------- 'open_fire ' ----------------\")\n",
    "df= df.rename(columns={'open_fire ': 'open_fire'})\n",
    "print(df['open_fire'].unique())\n",
    "df['open_fire']=df['open_fire'].fillna(np.nan)\n",
    "#print(df['open_fire'].unique())\n",
    "missing_percentage_open_fire=(df['open_fire'].isnull().sum() * 100)/df.shape[0]\n",
    "print(\"Percentage of missing values in open_fire is {} %\".format(int(missing_percentage_open_fire)))\n",
    "print(\"-------------------------------------\")"
   ],
   "metadata": {
    "collapsed": false,
    "pycharm": {
     "name": "#%%\n"
    }
   }
  },
  {
   "cell_type": "code",
   "execution_count": null,
   "outputs": [],
   "source": [
    "print(\"Saba Yahyaa\")"
   ],
   "metadata": {
    "collapsed": false,
    "pycharm": {
     "name": "#%%\n"
    }
   }
  },
  {
   "cell_type": "code",
   "execution_count": 3,
   "metadata": {},
   "outputs": [
    {
     "name": "stdout",
     "output_type": "stream",
     "text": [
      "Saba Yahyaa\n"
     ]
    }
   ],
   "source": [
    "print(\"Saba Yahyaa\")"
   ]
  },
  {
   "cell_type": "code",
   "execution_count": null,
   "outputs": [],
   "source": [
    "print(\"Saba Yahyaa\")"
   ],
   "metadata": {
    "collapsed": false,
    "pycharm": {
     "name": "#%%\n"
    }
   }
  }
 ],
 "metadata": {
  "kernelspec": {
   "display_name": "Python 3",
   "language": "python",
   "name": "python3"
  },
  "language_info": {
   "codemirror_mode": {
    "name": "ipython",
    "version": 3
   },
   "file_extension": ".py",
   "mimetype": "text/x-python",
   "name": "python",
   "nbconvert_exporter": "python",
   "pygments_lexer": "ipython3",
   "version": "3.8.3"
  }
 },
 "nbformat": 4,
 "nbformat_minor": 4
}