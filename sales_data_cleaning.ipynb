{
 "cells": [
  {
   "cell_type": "markdown",
   "metadata": {},
   "source": [
    "# Data Cleaning"
   ]
  },
  {
   "cell_type": "markdown",
   "metadata": {},
   "source": [
    "### Step 1. Import the necessary libraries"
   ]
  },
  {
   "cell_type": "code",
   "execution_count": 1,
   "metadata": {
    "pycharm": {
     "name": "#%%\n"
    }
   },
   "outputs": [],
   "source": [
    "import pandas as pd\n",
    "import numpy as np"
   ]
  },
  {
   "cell_type": "code",
   "execution_count": 2,
   "metadata": {},
   "outputs": [],
   "source": [
    "import re"
   ]
  },
  {
   "cell_type": "markdown",
   "metadata": {},
   "source": [
    "### Step 2. Set the url we want to import the data from"
   ]
  },
  {
   "cell_type": "code",
   "execution_count": 3,
   "metadata": {},
   "outputs": [],
   "source": [
    "url = 'https://raw.githubusercontent.com/FrancescoMariottini/project3/main/inputs/all_sales_data.csv'"
   ]
  },
  {
   "cell_type": "markdown",
   "metadata": {},
   "source": [
    "### Step 3. Assign it to a pandas DataFrame"
   ]
  },
  {
   "cell_type": "code",
   "execution_count": 4,
   "metadata": {},
   "outputs": [
    {
     "output_type": "execute_result",
     "data": {
      "text/plain": [
       "       source hyperlink locality  postcode  house_is    property_subtype  \\\n",
       "0           6   8901695     4180    4180.0      True  MIXED_USE_BUILDING   \n",
       "1           6   8747010     8730    8730.0      True               VILLA   \n",
       "2           6   8775843     4020    4020.0      True     APARTMENT_BLOCK   \n",
       "3           6   8910441     1200    1200.0      True               HOUSE   \n",
       "4           6   8758672     1190    1190.0      True  MIXED_USE_BUILDING   \n",
       "...       ...       ...      ...       ...       ...                 ...   \n",
       "93063       3       NaN     2650    2650.0     False                 NaN   \n",
       "93064       3       NaN     3700    3700.0     False                 NaN   \n",
       "93065       3       NaN     3800    3800.0     False                 NaN   \n",
       "93066       3       NaN     2610    2610.0     False                 NaN   \n",
       "93067       3       NaN     9840    9840.0     False                 NaN   \n",
       "\n",
       "         price sale rooms_number    area  ... open_fire terrace terrace_area  \\\n",
       "0       295000  NaN            3     242  ...     False    True           36   \n",
       "1       675000  NaN            4     349  ...     False   False            0   \n",
       "2       250000  NaN            5     303  ...     False   False            0   \n",
       "3       545000  NaN            4     235  ...     False   False            0   \n",
       "4       500000  NaN            2     220  ...     False   False            0   \n",
       "...        ...  ...          ...     ...  ...       ...     ...          ...   \n",
       "93063  210000€  NaN            2  100 m²  ...     False     NaN          NaN   \n",
       "93064  239000€  NaN            1   78 m²  ...     False     NaN          NaN   \n",
       "93065  259000€  NaN            2   90 m²  ...     False     NaN          NaN   \n",
       "93066  254000€  NaN            2   88 m²  ...     False     NaN          NaN   \n",
       "93067  359000€  NaN            2  140 m²  ...     False     NaN          NaN   \n",
       "\n",
       "      garden garden_area land_surface land_plot_surface facades_number  \\\n",
       "0       True        1000         1403              1403              0   \n",
       "1       True         977         1526              1526              0   \n",
       "2      False           0          760               760              0   \n",
       "3      False           0           63                63              0   \n",
       "4       True          60          193               193              0   \n",
       "...      ...         ...          ...               ...            ...   \n",
       "93063  False         NaN          NaN               NaN              2   \n",
       "93064  False         NaN          NaN               NaN              4   \n",
       "93065  False         NaN          NaN               NaN              2   \n",
       "93066  False         NaN          NaN               NaN              2   \n",
       "93067  False         NaN          NaN               NaN              4   \n",
       "\n",
       "      swimming_pool_has  building_state  \n",
       "0                 False            GOOD  \n",
       "1                 False          AS_NEW  \n",
       "2                 False     TO_RENOVATE  \n",
       "3                 False  JUST_RENOVATED  \n",
       "4                 False          AS_NEW  \n",
       "...                 ...             ...  \n",
       "93063                 0     To renovate  \n",
       "93064                 0            Good  \n",
       "93065                 0          As new  \n",
       "93066                 0   Not specified  \n",
       "93067                 0   Not specified  \n",
       "\n",
       "[93068 rows x 22 columns]"
      ],
      "text/html": "<div>\n<style scoped>\n    .dataframe tbody tr th:only-of-type {\n        vertical-align: middle;\n    }\n\n    .dataframe tbody tr th {\n        vertical-align: top;\n    }\n\n    .dataframe thead th {\n        text-align: right;\n    }\n</style>\n<table border=\"1\" class=\"dataframe\">\n  <thead>\n    <tr style=\"text-align: right;\">\n      <th></th>\n      <th>source</th>\n      <th>hyperlink</th>\n      <th>locality</th>\n      <th>postcode</th>\n      <th>house_is</th>\n      <th>property_subtype</th>\n      <th>price</th>\n      <th>sale</th>\n      <th>rooms_number</th>\n      <th>area</th>\n      <th>...</th>\n      <th>open_fire</th>\n      <th>terrace</th>\n      <th>terrace_area</th>\n      <th>garden</th>\n      <th>garden_area</th>\n      <th>land_surface</th>\n      <th>land_plot_surface</th>\n      <th>facades_number</th>\n      <th>swimming_pool_has</th>\n      <th>building_state</th>\n    </tr>\n  </thead>\n  <tbody>\n    <tr>\n      <th>0</th>\n      <td>6</td>\n      <td>8901695</td>\n      <td>4180</td>\n      <td>4180.0</td>\n      <td>True</td>\n      <td>MIXED_USE_BUILDING</td>\n      <td>295000</td>\n      <td>NaN</td>\n      <td>3</td>\n      <td>242</td>\n      <td>...</td>\n      <td>False</td>\n      <td>True</td>\n      <td>36</td>\n      <td>True</td>\n      <td>1000</td>\n      <td>1403</td>\n      <td>1403</td>\n      <td>0</td>\n      <td>False</td>\n      <td>GOOD</td>\n    </tr>\n    <tr>\n      <th>1</th>\n      <td>6</td>\n      <td>8747010</td>\n      <td>8730</td>\n      <td>8730.0</td>\n      <td>True</td>\n      <td>VILLA</td>\n      <td>675000</td>\n      <td>NaN</td>\n      <td>4</td>\n      <td>349</td>\n      <td>...</td>\n      <td>False</td>\n      <td>False</td>\n      <td>0</td>\n      <td>True</td>\n      <td>977</td>\n      <td>1526</td>\n      <td>1526</td>\n      <td>0</td>\n      <td>False</td>\n      <td>AS_NEW</td>\n    </tr>\n    <tr>\n      <th>2</th>\n      <td>6</td>\n      <td>8775843</td>\n      <td>4020</td>\n      <td>4020.0</td>\n      <td>True</td>\n      <td>APARTMENT_BLOCK</td>\n      <td>250000</td>\n      <td>NaN</td>\n      <td>5</td>\n      <td>303</td>\n      <td>...</td>\n      <td>False</td>\n      <td>False</td>\n      <td>0</td>\n      <td>False</td>\n      <td>0</td>\n      <td>760</td>\n      <td>760</td>\n      <td>0</td>\n      <td>False</td>\n      <td>TO_RENOVATE</td>\n    </tr>\n    <tr>\n      <th>3</th>\n      <td>6</td>\n      <td>8910441</td>\n      <td>1200</td>\n      <td>1200.0</td>\n      <td>True</td>\n      <td>HOUSE</td>\n      <td>545000</td>\n      <td>NaN</td>\n      <td>4</td>\n      <td>235</td>\n      <td>...</td>\n      <td>False</td>\n      <td>False</td>\n      <td>0</td>\n      <td>False</td>\n      <td>0</td>\n      <td>63</td>\n      <td>63</td>\n      <td>0</td>\n      <td>False</td>\n      <td>JUST_RENOVATED</td>\n    </tr>\n    <tr>\n      <th>4</th>\n      <td>6</td>\n      <td>8758672</td>\n      <td>1190</td>\n      <td>1190.0</td>\n      <td>True</td>\n      <td>MIXED_USE_BUILDING</td>\n      <td>500000</td>\n      <td>NaN</td>\n      <td>2</td>\n      <td>220</td>\n      <td>...</td>\n      <td>False</td>\n      <td>False</td>\n      <td>0</td>\n      <td>True</td>\n      <td>60</td>\n      <td>193</td>\n      <td>193</td>\n      <td>0</td>\n      <td>False</td>\n      <td>AS_NEW</td>\n    </tr>\n    <tr>\n      <th>...</th>\n      <td>...</td>\n      <td>...</td>\n      <td>...</td>\n      <td>...</td>\n      <td>...</td>\n      <td>...</td>\n      <td>...</td>\n      <td>...</td>\n      <td>...</td>\n      <td>...</td>\n      <td>...</td>\n      <td>...</td>\n      <td>...</td>\n      <td>...</td>\n      <td>...</td>\n      <td>...</td>\n      <td>...</td>\n      <td>...</td>\n      <td>...</td>\n      <td>...</td>\n      <td>...</td>\n    </tr>\n    <tr>\n      <th>93063</th>\n      <td>3</td>\n      <td>NaN</td>\n      <td>2650</td>\n      <td>2650.0</td>\n      <td>False</td>\n      <td>NaN</td>\n      <td>210000€</td>\n      <td>NaN</td>\n      <td>2</td>\n      <td>100 m²</td>\n      <td>...</td>\n      <td>False</td>\n      <td>NaN</td>\n      <td>NaN</td>\n      <td>False</td>\n      <td>NaN</td>\n      <td>NaN</td>\n      <td>NaN</td>\n      <td>2</td>\n      <td>0</td>\n      <td>To renovate</td>\n    </tr>\n    <tr>\n      <th>93064</th>\n      <td>3</td>\n      <td>NaN</td>\n      <td>3700</td>\n      <td>3700.0</td>\n      <td>False</td>\n      <td>NaN</td>\n      <td>239000€</td>\n      <td>NaN</td>\n      <td>1</td>\n      <td>78 m²</td>\n      <td>...</td>\n      <td>False</td>\n      <td>NaN</td>\n      <td>NaN</td>\n      <td>False</td>\n      <td>NaN</td>\n      <td>NaN</td>\n      <td>NaN</td>\n      <td>4</td>\n      <td>0</td>\n      <td>Good</td>\n    </tr>\n    <tr>\n      <th>93065</th>\n      <td>3</td>\n      <td>NaN</td>\n      <td>3800</td>\n      <td>3800.0</td>\n      <td>False</td>\n      <td>NaN</td>\n      <td>259000€</td>\n      <td>NaN</td>\n      <td>2</td>\n      <td>90 m²</td>\n      <td>...</td>\n      <td>False</td>\n      <td>NaN</td>\n      <td>NaN</td>\n      <td>False</td>\n      <td>NaN</td>\n      <td>NaN</td>\n      <td>NaN</td>\n      <td>2</td>\n      <td>0</td>\n      <td>As new</td>\n    </tr>\n    <tr>\n      <th>93066</th>\n      <td>3</td>\n      <td>NaN</td>\n      <td>2610</td>\n      <td>2610.0</td>\n      <td>False</td>\n      <td>NaN</td>\n      <td>254000€</td>\n      <td>NaN</td>\n      <td>2</td>\n      <td>88 m²</td>\n      <td>...</td>\n      <td>False</td>\n      <td>NaN</td>\n      <td>NaN</td>\n      <td>False</td>\n      <td>NaN</td>\n      <td>NaN</td>\n      <td>NaN</td>\n      <td>2</td>\n      <td>0</td>\n      <td>Not specified</td>\n    </tr>\n    <tr>\n      <th>93067</th>\n      <td>3</td>\n      <td>NaN</td>\n      <td>9840</td>\n      <td>9840.0</td>\n      <td>False</td>\n      <td>NaN</td>\n      <td>359000€</td>\n      <td>NaN</td>\n      <td>2</td>\n      <td>140 m²</td>\n      <td>...</td>\n      <td>False</td>\n      <td>NaN</td>\n      <td>NaN</td>\n      <td>False</td>\n      <td>NaN</td>\n      <td>NaN</td>\n      <td>NaN</td>\n      <td>4</td>\n      <td>0</td>\n      <td>Not specified</td>\n    </tr>\n  </tbody>\n</table>\n<p>93068 rows × 22 columns</p>\n</div>"
     },
     "metadata": {},
     "execution_count": 4
    }
   ],
   "source": [
    "df = pd.read_csv(url)\n",
    "df"
   ]
  },
  {
   "cell_type": "code",
   "execution_count": 5,
   "metadata": {},
   "outputs": [
    {
     "output_type": "execute_result",
     "data": {
      "text/plain": [
       "source                 int64\n",
       "hyperlink             object\n",
       "locality              object\n",
       "postcode             float64\n",
       "house_is                bool\n",
       "property_subtype      object\n",
       "price                 object\n",
       "sale                  object\n",
       "rooms_number          object\n",
       "area                  object\n",
       "kitchen_has           object\n",
       "furnished             object\n",
       "open_fire             object\n",
       "terrace               object\n",
       "terrace_area          object\n",
       "garden                object\n",
       "garden_area           object\n",
       "land_surface          object\n",
       "land_plot_surface     object\n",
       "facades_number        object\n",
       "swimming_pool_has     object\n",
       "building_state        object\n",
       "dtype: object"
      ]
     },
     "metadata": {},
     "execution_count": 5
    }
   ],
   "source": [
    "df.dtypes"
   ]
  },
  {
   "cell_type": "code",
   "execution_count": 9,
   "metadata": {},
   "outputs": [],
   "source": [
    "def merge_postcodes_localities(row):\n",
    "    if(pd.isna(row.postcode)):\n",
    "        legal_belgian_postcode_pattern = '[1-9][0-9][0-9][0-9]'\n",
    "        extracted_postcodes = re.findall(legal_belgian_postcode_pattern, row.locality)\n",
    "        if len(extracted_postcodes) > 0 :\n",
    "            row.postcode = str(int(extracted_postcodes[0]))\n",
    "    else:\n",
    "        row.postcode = str(int(row.postcode))\n",
    "    return row"
   ]
  },
  {
   "cell_type": "code",
   "execution_count": 10,
   "metadata": {
    "tags": []
   },
   "outputs": [
    {
     "output_type": "execute_result",
     "data": {
      "text/plain": [
       "       source hyperlink locality postcode  house_is    property_subtype  \\\n",
       "0           6   8901695     4180     4180      True  MIXED_USE_BUILDING   \n",
       "1           6   8747010     8730     8730      True               VILLA   \n",
       "2           6   8775843     4020     4020      True     APARTMENT_BLOCK   \n",
       "3           6   8910441     1200     1200      True               HOUSE   \n",
       "4           6   8758672     1190     1190      True  MIXED_USE_BUILDING   \n",
       "...       ...       ...      ...      ...       ...                 ...   \n",
       "93063       3       NaN     2650     2650     False                 NaN   \n",
       "93064       3       NaN     3700     3700     False                 NaN   \n",
       "93065       3       NaN     3800     3800     False                 NaN   \n",
       "93066       3       NaN     2610     2610     False                 NaN   \n",
       "93067       3       NaN     9840     9840     False                 NaN   \n",
       "\n",
       "         price sale rooms_number    area  ... open_fire terrace terrace_area  \\\n",
       "0       295000  NaN            3     242  ...     False    True           36   \n",
       "1       675000  NaN            4     349  ...     False   False            0   \n",
       "2       250000  NaN            5     303  ...     False   False            0   \n",
       "3       545000  NaN            4     235  ...     False   False            0   \n",
       "4       500000  NaN            2     220  ...     False   False            0   \n",
       "...        ...  ...          ...     ...  ...       ...     ...          ...   \n",
       "93063  210000€  NaN            2  100 m²  ...     False     NaN          NaN   \n",
       "93064  239000€  NaN            1   78 m²  ...     False     NaN          NaN   \n",
       "93065  259000€  NaN            2   90 m²  ...     False     NaN          NaN   \n",
       "93066  254000€  NaN            2   88 m²  ...     False     NaN          NaN   \n",
       "93067  359000€  NaN            2  140 m²  ...     False     NaN          NaN   \n",
       "\n",
       "      garden garden_area land_surface land_plot_surface facades_number  \\\n",
       "0       True        1000         1403              1403              0   \n",
       "1       True         977         1526              1526              0   \n",
       "2      False           0          760               760              0   \n",
       "3      False           0           63                63              0   \n",
       "4       True          60          193               193              0   \n",
       "...      ...         ...          ...               ...            ...   \n",
       "93063  False         NaN          NaN               NaN              2   \n",
       "93064  False         NaN          NaN               NaN              4   \n",
       "93065  False         NaN          NaN               NaN              2   \n",
       "93066  False         NaN          NaN               NaN              2   \n",
       "93067  False         NaN          NaN               NaN              4   \n",
       "\n",
       "      swimming_pool_has  building_state  \n",
       "0                 False            GOOD  \n",
       "1                 False          AS_NEW  \n",
       "2                 False     TO_RENOVATE  \n",
       "3                 False  JUST_RENOVATED  \n",
       "4                 False          AS_NEW  \n",
       "...                 ...             ...  \n",
       "93063                 0     To renovate  \n",
       "93064                 0            Good  \n",
       "93065                 0          As new  \n",
       "93066                 0   Not specified  \n",
       "93067                 0   Not specified  \n",
       "\n",
       "[93068 rows x 22 columns]"
      ],
      "text/html": "<div>\n<style scoped>\n    .dataframe tbody tr th:only-of-type {\n        vertical-align: middle;\n    }\n\n    .dataframe tbody tr th {\n        vertical-align: top;\n    }\n\n    .dataframe thead th {\n        text-align: right;\n    }\n</style>\n<table border=\"1\" class=\"dataframe\">\n  <thead>\n    <tr style=\"text-align: right;\">\n      <th></th>\n      <th>source</th>\n      <th>hyperlink</th>\n      <th>locality</th>\n      <th>postcode</th>\n      <th>house_is</th>\n      <th>property_subtype</th>\n      <th>price</th>\n      <th>sale</th>\n      <th>rooms_number</th>\n      <th>area</th>\n      <th>...</th>\n      <th>open_fire</th>\n      <th>terrace</th>\n      <th>terrace_area</th>\n      <th>garden</th>\n      <th>garden_area</th>\n      <th>land_surface</th>\n      <th>land_plot_surface</th>\n      <th>facades_number</th>\n      <th>swimming_pool_has</th>\n      <th>building_state</th>\n    </tr>\n  </thead>\n  <tbody>\n    <tr>\n      <th>0</th>\n      <td>6</td>\n      <td>8901695</td>\n      <td>4180</td>\n      <td>4180</td>\n      <td>True</td>\n      <td>MIXED_USE_BUILDING</td>\n      <td>295000</td>\n      <td>NaN</td>\n      <td>3</td>\n      <td>242</td>\n      <td>...</td>\n      <td>False</td>\n      <td>True</td>\n      <td>36</td>\n      <td>True</td>\n      <td>1000</td>\n      <td>1403</td>\n      <td>1403</td>\n      <td>0</td>\n      <td>False</td>\n      <td>GOOD</td>\n    </tr>\n    <tr>\n      <th>1</th>\n      <td>6</td>\n      <td>8747010</td>\n      <td>8730</td>\n      <td>8730</td>\n      <td>True</td>\n      <td>VILLA</td>\n      <td>675000</td>\n      <td>NaN</td>\n      <td>4</td>\n      <td>349</td>\n      <td>...</td>\n      <td>False</td>\n      <td>False</td>\n      <td>0</td>\n      <td>True</td>\n      <td>977</td>\n      <td>1526</td>\n      <td>1526</td>\n      <td>0</td>\n      <td>False</td>\n      <td>AS_NEW</td>\n    </tr>\n    <tr>\n      <th>2</th>\n      <td>6</td>\n      <td>8775843</td>\n      <td>4020</td>\n      <td>4020</td>\n      <td>True</td>\n      <td>APARTMENT_BLOCK</td>\n      <td>250000</td>\n      <td>NaN</td>\n      <td>5</td>\n      <td>303</td>\n      <td>...</td>\n      <td>False</td>\n      <td>False</td>\n      <td>0</td>\n      <td>False</td>\n      <td>0</td>\n      <td>760</td>\n      <td>760</td>\n      <td>0</td>\n      <td>False</td>\n      <td>TO_RENOVATE</td>\n    </tr>\n    <tr>\n      <th>3</th>\n      <td>6</td>\n      <td>8910441</td>\n      <td>1200</td>\n      <td>1200</td>\n      <td>True</td>\n      <td>HOUSE</td>\n      <td>545000</td>\n      <td>NaN</td>\n      <td>4</td>\n      <td>235</td>\n      <td>...</td>\n      <td>False</td>\n      <td>False</td>\n      <td>0</td>\n      <td>False</td>\n      <td>0</td>\n      <td>63</td>\n      <td>63</td>\n      <td>0</td>\n      <td>False</td>\n      <td>JUST_RENOVATED</td>\n    </tr>\n    <tr>\n      <th>4</th>\n      <td>6</td>\n      <td>8758672</td>\n      <td>1190</td>\n      <td>1190</td>\n      <td>True</td>\n      <td>MIXED_USE_BUILDING</td>\n      <td>500000</td>\n      <td>NaN</td>\n      <td>2</td>\n      <td>220</td>\n      <td>...</td>\n      <td>False</td>\n      <td>False</td>\n      <td>0</td>\n      <td>True</td>\n      <td>60</td>\n      <td>193</td>\n      <td>193</td>\n      <td>0</td>\n      <td>False</td>\n      <td>AS_NEW</td>\n    </tr>\n    <tr>\n      <th>...</th>\n      <td>...</td>\n      <td>...</td>\n      <td>...</td>\n      <td>...</td>\n      <td>...</td>\n      <td>...</td>\n      <td>...</td>\n      <td>...</td>\n      <td>...</td>\n      <td>...</td>\n      <td>...</td>\n      <td>...</td>\n      <td>...</td>\n      <td>...</td>\n      <td>...</td>\n      <td>...</td>\n      <td>...</td>\n      <td>...</td>\n      <td>...</td>\n      <td>...</td>\n      <td>...</td>\n    </tr>\n    <tr>\n      <th>93063</th>\n      <td>3</td>\n      <td>NaN</td>\n      <td>2650</td>\n      <td>2650</td>\n      <td>False</td>\n      <td>NaN</td>\n      <td>210000€</td>\n      <td>NaN</td>\n      <td>2</td>\n      <td>100 m²</td>\n      <td>...</td>\n      <td>False</td>\n      <td>NaN</td>\n      <td>NaN</td>\n      <td>False</td>\n      <td>NaN</td>\n      <td>NaN</td>\n      <td>NaN</td>\n      <td>2</td>\n      <td>0</td>\n      <td>To renovate</td>\n    </tr>\n    <tr>\n      <th>93064</th>\n      <td>3</td>\n      <td>NaN</td>\n      <td>3700</td>\n      <td>3700</td>\n      <td>False</td>\n      <td>NaN</td>\n      <td>239000€</td>\n      <td>NaN</td>\n      <td>1</td>\n      <td>78 m²</td>\n      <td>...</td>\n      <td>False</td>\n      <td>NaN</td>\n      <td>NaN</td>\n      <td>False</td>\n      <td>NaN</td>\n      <td>NaN</td>\n      <td>NaN</td>\n      <td>4</td>\n      <td>0</td>\n      <td>Good</td>\n    </tr>\n    <tr>\n      <th>93065</th>\n      <td>3</td>\n      <td>NaN</td>\n      <td>3800</td>\n      <td>3800</td>\n      <td>False</td>\n      <td>NaN</td>\n      <td>259000€</td>\n      <td>NaN</td>\n      <td>2</td>\n      <td>90 m²</td>\n      <td>...</td>\n      <td>False</td>\n      <td>NaN</td>\n      <td>NaN</td>\n      <td>False</td>\n      <td>NaN</td>\n      <td>NaN</td>\n      <td>NaN</td>\n      <td>2</td>\n      <td>0</td>\n      <td>As new</td>\n    </tr>\n    <tr>\n      <th>93066</th>\n      <td>3</td>\n      <td>NaN</td>\n      <td>2610</td>\n      <td>2610</td>\n      <td>False</td>\n      <td>NaN</td>\n      <td>254000€</td>\n      <td>NaN</td>\n      <td>2</td>\n      <td>88 m²</td>\n      <td>...</td>\n      <td>False</td>\n      <td>NaN</td>\n      <td>NaN</td>\n      <td>False</td>\n      <td>NaN</td>\n      <td>NaN</td>\n      <td>NaN</td>\n      <td>2</td>\n      <td>0</td>\n      <td>Not specified</td>\n    </tr>\n    <tr>\n      <th>93067</th>\n      <td>3</td>\n      <td>NaN</td>\n      <td>9840</td>\n      <td>9840</td>\n      <td>False</td>\n      <td>NaN</td>\n      <td>359000€</td>\n      <td>NaN</td>\n      <td>2</td>\n      <td>140 m²</td>\n      <td>...</td>\n      <td>False</td>\n      <td>NaN</td>\n      <td>NaN</td>\n      <td>False</td>\n      <td>NaN</td>\n      <td>NaN</td>\n      <td>NaN</td>\n      <td>4</td>\n      <td>0</td>\n      <td>Not specified</td>\n    </tr>\n  </tbody>\n</table>\n<p>93068 rows × 22 columns</p>\n</div>"
     },
     "metadata": {},
     "execution_count": 10
    }
   ],
   "source": [
    "temp = df.apply(merge_postcodes_localities, axis='columns')\n",
    "temp"
   ]
  },
  {
   "cell_type": "code",
   "execution_count": 15,
   "metadata": {},
   "outputs": [
    {
     "output_type": "error",
     "ename": "KeyError",
     "evalue": "\"['locality'] not found in axis\"",
     "traceback": [
      "\u001b[0;31m---------------------------------------------------------------------------\u001b[0m",
      "\u001b[0;31mKeyError\u001b[0m                                  Traceback (most recent call last)",
      "\u001b[0;32m<ipython-input-15-2243941d7835>\u001b[0m in \u001b[0;36m<module>\u001b[0;34m\u001b[0m\n\u001b[0;32m----> 1\u001b[0;31m \u001b[0mtemp\u001b[0m \u001b[0;34m=\u001b[0m \u001b[0mtemp\u001b[0m\u001b[0;34m.\u001b[0m\u001b[0mdrop\u001b[0m\u001b[0;34m(\u001b[0m\u001b[0;34m'locality'\u001b[0m\u001b[0;34m,\u001b[0m \u001b[0maxis\u001b[0m\u001b[0;34m=\u001b[0m\u001b[0;34m'columns'\u001b[0m\u001b[0;34m)\u001b[0m\u001b[0;34m\u001b[0m\u001b[0;34m\u001b[0m\u001b[0m\n\u001b[0m\u001b[1;32m      2\u001b[0m \u001b[0mtemp\u001b[0m\u001b[0;34m\u001b[0m\u001b[0;34m\u001b[0m\u001b[0m\n",
      "\u001b[0;32m~/anaconda3/lib/python3.8/site-packages/pandas/core/frame.py\u001b[0m in \u001b[0;36mdrop\u001b[0;34m(self, labels, axis, index, columns, level, inplace, errors)\u001b[0m\n\u001b[1;32m   3988\u001b[0m                 \u001b[0mweight\u001b[0m  \u001b[0;36m1.0\u001b[0m     \u001b[0;36m0.8\u001b[0m\u001b[0;34m\u001b[0m\u001b[0;34m\u001b[0m\u001b[0m\n\u001b[1;32m   3989\u001b[0m         \"\"\"\n\u001b[0;32m-> 3990\u001b[0;31m         return super().drop(\n\u001b[0m\u001b[1;32m   3991\u001b[0m             \u001b[0mlabels\u001b[0m\u001b[0;34m=\u001b[0m\u001b[0mlabels\u001b[0m\u001b[0;34m,\u001b[0m\u001b[0;34m\u001b[0m\u001b[0;34m\u001b[0m\u001b[0m\n\u001b[1;32m   3992\u001b[0m             \u001b[0maxis\u001b[0m\u001b[0;34m=\u001b[0m\u001b[0maxis\u001b[0m\u001b[0;34m,\u001b[0m\u001b[0;34m\u001b[0m\u001b[0;34m\u001b[0m\u001b[0m\n",
      "\u001b[0;32m~/anaconda3/lib/python3.8/site-packages/pandas/core/generic.py\u001b[0m in \u001b[0;36mdrop\u001b[0;34m(self, labels, axis, index, columns, level, inplace, errors)\u001b[0m\n\u001b[1;32m   3934\u001b[0m         \u001b[0;32mfor\u001b[0m \u001b[0maxis\u001b[0m\u001b[0;34m,\u001b[0m \u001b[0mlabels\u001b[0m \u001b[0;32min\u001b[0m \u001b[0maxes\u001b[0m\u001b[0;34m.\u001b[0m\u001b[0mitems\u001b[0m\u001b[0;34m(\u001b[0m\u001b[0;34m)\u001b[0m\u001b[0;34m:\u001b[0m\u001b[0;34m\u001b[0m\u001b[0;34m\u001b[0m\u001b[0m\n\u001b[1;32m   3935\u001b[0m             \u001b[0;32mif\u001b[0m \u001b[0mlabels\u001b[0m \u001b[0;32mis\u001b[0m \u001b[0;32mnot\u001b[0m \u001b[0;32mNone\u001b[0m\u001b[0;34m:\u001b[0m\u001b[0;34m\u001b[0m\u001b[0;34m\u001b[0m\u001b[0m\n\u001b[0;32m-> 3936\u001b[0;31m                 \u001b[0mobj\u001b[0m \u001b[0;34m=\u001b[0m \u001b[0mobj\u001b[0m\u001b[0;34m.\u001b[0m\u001b[0m_drop_axis\u001b[0m\u001b[0;34m(\u001b[0m\u001b[0mlabels\u001b[0m\u001b[0;34m,\u001b[0m \u001b[0maxis\u001b[0m\u001b[0;34m,\u001b[0m \u001b[0mlevel\u001b[0m\u001b[0;34m=\u001b[0m\u001b[0mlevel\u001b[0m\u001b[0;34m,\u001b[0m \u001b[0merrors\u001b[0m\u001b[0;34m=\u001b[0m\u001b[0merrors\u001b[0m\u001b[0;34m)\u001b[0m\u001b[0;34m\u001b[0m\u001b[0;34m\u001b[0m\u001b[0m\n\u001b[0m\u001b[1;32m   3937\u001b[0m \u001b[0;34m\u001b[0m\u001b[0m\n\u001b[1;32m   3938\u001b[0m         \u001b[0;32mif\u001b[0m \u001b[0minplace\u001b[0m\u001b[0;34m:\u001b[0m\u001b[0;34m\u001b[0m\u001b[0;34m\u001b[0m\u001b[0m\n",
      "\u001b[0;32m~/anaconda3/lib/python3.8/site-packages/pandas/core/generic.py\u001b[0m in \u001b[0;36m_drop_axis\u001b[0;34m(self, labels, axis, level, errors)\u001b[0m\n\u001b[1;32m   3968\u001b[0m                 \u001b[0mnew_axis\u001b[0m \u001b[0;34m=\u001b[0m \u001b[0maxis\u001b[0m\u001b[0;34m.\u001b[0m\u001b[0mdrop\u001b[0m\u001b[0;34m(\u001b[0m\u001b[0mlabels\u001b[0m\u001b[0;34m,\u001b[0m \u001b[0mlevel\u001b[0m\u001b[0;34m=\u001b[0m\u001b[0mlevel\u001b[0m\u001b[0;34m,\u001b[0m \u001b[0merrors\u001b[0m\u001b[0;34m=\u001b[0m\u001b[0merrors\u001b[0m\u001b[0;34m)\u001b[0m\u001b[0;34m\u001b[0m\u001b[0;34m\u001b[0m\u001b[0m\n\u001b[1;32m   3969\u001b[0m             \u001b[0;32melse\u001b[0m\u001b[0;34m:\u001b[0m\u001b[0;34m\u001b[0m\u001b[0;34m\u001b[0m\u001b[0m\n\u001b[0;32m-> 3970\u001b[0;31m                 \u001b[0mnew_axis\u001b[0m \u001b[0;34m=\u001b[0m \u001b[0maxis\u001b[0m\u001b[0;34m.\u001b[0m\u001b[0mdrop\u001b[0m\u001b[0;34m(\u001b[0m\u001b[0mlabels\u001b[0m\u001b[0;34m,\u001b[0m \u001b[0merrors\u001b[0m\u001b[0;34m=\u001b[0m\u001b[0merrors\u001b[0m\u001b[0;34m)\u001b[0m\u001b[0;34m\u001b[0m\u001b[0;34m\u001b[0m\u001b[0m\n\u001b[0m\u001b[1;32m   3971\u001b[0m             \u001b[0mresult\u001b[0m \u001b[0;34m=\u001b[0m \u001b[0mself\u001b[0m\u001b[0;34m.\u001b[0m\u001b[0mreindex\u001b[0m\u001b[0;34m(\u001b[0m\u001b[0;34m**\u001b[0m\u001b[0;34m{\u001b[0m\u001b[0maxis_name\u001b[0m\u001b[0;34m:\u001b[0m \u001b[0mnew_axis\u001b[0m\u001b[0;34m}\u001b[0m\u001b[0;34m)\u001b[0m\u001b[0;34m\u001b[0m\u001b[0;34m\u001b[0m\u001b[0m\n\u001b[1;32m   3972\u001b[0m \u001b[0;34m\u001b[0m\u001b[0m\n",
      "\u001b[0;32m~/anaconda3/lib/python3.8/site-packages/pandas/core/indexes/base.py\u001b[0m in \u001b[0;36mdrop\u001b[0;34m(self, labels, errors)\u001b[0m\n\u001b[1;32m   5016\u001b[0m         \u001b[0;32mif\u001b[0m \u001b[0mmask\u001b[0m\u001b[0;34m.\u001b[0m\u001b[0many\u001b[0m\u001b[0;34m(\u001b[0m\u001b[0;34m)\u001b[0m\u001b[0;34m:\u001b[0m\u001b[0;34m\u001b[0m\u001b[0;34m\u001b[0m\u001b[0m\n\u001b[1;32m   5017\u001b[0m             \u001b[0;32mif\u001b[0m \u001b[0merrors\u001b[0m \u001b[0;34m!=\u001b[0m \u001b[0;34m\"ignore\"\u001b[0m\u001b[0;34m:\u001b[0m\u001b[0;34m\u001b[0m\u001b[0;34m\u001b[0m\u001b[0m\n\u001b[0;32m-> 5018\u001b[0;31m                 \u001b[0;32mraise\u001b[0m \u001b[0mKeyError\u001b[0m\u001b[0;34m(\u001b[0m\u001b[0;34mf\"{labels[mask]} not found in axis\"\u001b[0m\u001b[0;34m)\u001b[0m\u001b[0;34m\u001b[0m\u001b[0;34m\u001b[0m\u001b[0m\n\u001b[0m\u001b[1;32m   5019\u001b[0m             \u001b[0mindexer\u001b[0m \u001b[0;34m=\u001b[0m \u001b[0mindexer\u001b[0m\u001b[0;34m[\u001b[0m\u001b[0;34m~\u001b[0m\u001b[0mmask\u001b[0m\u001b[0;34m]\u001b[0m\u001b[0;34m\u001b[0m\u001b[0;34m\u001b[0m\u001b[0m\n\u001b[1;32m   5020\u001b[0m         \u001b[0;32mreturn\u001b[0m \u001b[0mself\u001b[0m\u001b[0;34m.\u001b[0m\u001b[0mdelete\u001b[0m\u001b[0;34m(\u001b[0m\u001b[0mindexer\u001b[0m\u001b[0;34m)\u001b[0m\u001b[0;34m\u001b[0m\u001b[0;34m\u001b[0m\u001b[0m\n",
      "\u001b[0;31mKeyError\u001b[0m: \"['locality'] not found in axis\""
     ]
    }
   ],
   "source": [
    "temp = temp.drop('locality', axis='columns')\n",
    "temp"
   ]
  },
  {
   "cell_type": "code",
   "execution_count": null,
   "metadata": {},
   "outputs": [],
   "source": []
  }
 ],
 "metadata": {
  "kernelspec": {
   "display_name": "Python 3",
   "language": "python",
   "name": "python3"
  },
  "language_info": {
   "codemirror_mode": {
    "name": "ipython",
    "version": 3
   },
   "file_extension": ".py",
   "mimetype": "text/x-python",
   "name": "python",
   "nbconvert_exporter": "python",
   "pygments_lexer": "ipython3",
   "version": "3.8.3-final"
  }
 },
 "nbformat": 4,
 "nbformat_minor": 4
}