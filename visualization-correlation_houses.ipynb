{
 "cells": [
  {
   "cell_type": "markdown",
   "source": [
    "# Visualization of correlation analysis for houses\n",
    "Hereby the steps adopted for the correlation analysis are showed and described.\n",
    "\n",
    "### Importing cleaned dataset\n",
    "Original dataset is imported into SalesDataCleaner class before being cleaned."
   ],
   "metadata": {
    "collapsed": false,
    "pycharm": {
     "name": "#%% md\n"
    }
   }
  },
  {
   "cell_type": "code",
   "execution_count": 26,
   "metadata": {
    "collapsed": true
   },
   "outputs": [],
   "source": [
    "#importing necessary libraries\n",
    "from SalesDataCleaner import SalesDataCleaner\n",
    "import pandas as pd\n",
    "import numpy as np\n",
    "import seaborn as sns\n",
    "\n",
    "pd.options.display.max_columns = None\n",
    "pd.options.display.max_rows = None"
   ]
  },
  {
   "cell_type": "code",
   "execution_count": 27,
   "outputs": [
    {
     "name": "stdout",
     "output_type": "stream",
     "text": [
      "source                 int32\n",
      "hyperlink             object\n",
      "locality              object\n",
      "postcode              object\n",
      "house_is                bool\n",
      "property_subtype      object\n",
      "price                float64\n",
      "sale                  object\n",
      "rooms_number         float64\n",
      "area                 float64\n",
      "kitchen_has           object\n",
      "furnished             object\n",
      "open_fire             object\n",
      "terrace               object\n",
      "terrace_area         float64\n",
      "garden                object\n",
      "garden_area          float64\n",
      "land_surface         float64\n",
      "land_plot_surface    float64\n",
      "facades_number       float64\n",
      "swimming_pool_has     object\n",
      "building_state        object\n",
      "dtype: object\n"
     ]
    },
    {
     "name": "stderr",
     "output_type": "stream",
     "text": [
      "IOPub data rate exceeded.\n",
      "The notebook server will temporarily stop sending output\n",
      "to the client in order to avoid crashing it.\n",
      "To change this limit, set the config variable\n",
      "`--NotebookApp.iopub_data_rate_limit`.\n",
      "\n",
      "Current values:\n",
      "NotebookApp.iopub_data_rate_limit=1000000.0 (bytes/sec)\n",
      "NotebookApp.rate_limit_window=3.0 (secs)\n",
      "\n"
     ]
    }
   ],
   "source": [
    "#cleaning the dataset\n",
    "url = 'https://raw.githubusercontent.com/FrancescoMariottini/project3/main/inputs/all_sales_data.csv'\n",
    "\n",
    "sdc = SalesDataCleaner(url)\n",
    "\n",
    "sdc.clean()\n",
    "\n",
    "df = sdc.sales_data\n",
    "\n",
    "df = df[df.house_is==True]"
   ],
   "metadata": {
    "collapsed": false,
    "pycharm": {
     "name": "#%%\n"
    }
   }
  },
  {
   "cell_type": "markdown",
   "source": [
    "### Identifying and excluding numerical outliers from analysis\n",
    "Extreme outliers were identified and excluded from the correlation analysis in order to have a more accurate correlation analysis.\n",
    "\n",
    "Overview of the numerical variables in the cleaned dataset"
   ],
   "metadata": {
    "collapsed": false
   }
  },
  {
   "cell_type": "code",
   "execution_count": 28,
   "outputs": [
    {
     "name": "stdout",
     "output_type": "stream",
     "text": [
      "            source         price  rooms_number         area  terrace_area  \\\n",
      "count  6068.000000  6.068000e+03   6068.000000  6068.000000   6068.000000   \n",
      "mean      5.987146  5.555275e+05      4.037080   263.948418     13.570534   \n",
      "std       0.159836  6.718471e+05      3.311046   249.444049     31.533554   \n",
      "min       4.000000  2.500000e+04      0.000000     5.000000      0.000000   \n",
      "5%        6.000000  1.290000e+05      2.000000   100.000000      0.000000   \n",
      "6%        6.000000  1.380200e+05      2.000000   101.000000      0.000000   \n",
      "25%       6.000000  2.400000e+05      3.000000   150.000000      0.000000   \n",
      "50%       6.000000  3.590000e+05      4.000000   205.000000      0.000000   \n",
      "75%       6.000000  5.950000e+05      5.000000   300.000000     18.000000   \n",
      "94%       6.000000  1.489800e+06      7.000000   550.000000     56.000000   \n",
      "95%       6.000000  1.650000e+06      7.000000   595.000000     60.000000   \n",
      "max       6.000000  1.500000e+07    100.000000  8800.000000    708.000000   \n",
      "\n",
      "        garden_area  land_surface  facades_number  \n",
      "count   6068.000000  6.068000e+03       39.000000  \n",
      "mean     399.291035  1.562016e+03        2.871795  \n",
      "std     2754.304664  1.864216e+04        0.863880  \n",
      "min        0.000000  0.000000e+00        1.000000  \n",
      "5%         0.000000  0.000000e+00        2.000000  \n",
      "6%         0.000000  0.000000e+00        2.000000  \n",
      "25%        0.000000  1.480000e+02        2.000000  \n",
      "50%        0.000000  3.690000e+02        3.000000  \n",
      "75%      105.000000  9.742500e+02        4.000000  \n",
      "94%     1231.780000  3.317740e+03        4.000000  \n",
      "95%     1422.350000  3.866750e+03        4.000000  \n",
      "max    94000.000000  1.379000e+06        4.000000  \n",
      "\n",
      " 828 postcodes in the df\n"
     ]
    }
   ],
   "source": [
    "df_description = df.describe(percentiles=[0.95, 0.94, 0.75, 0.5, 0.25, 0.06, 0.05], include=np.number)\n",
    "print(df_description)\n",
    "print(f\"\\n {len(df.groupby('postcode').agg([len]))} postcodes in the df\")"
   ],
   "metadata": {
    "collapsed": false,
    "pycharm": {
     "name": "#%%\n"
    }
   }
  },
  {
   "cell_type": "markdown",
   "source": [
    "Zeros can hide non-realistic (e.g. in land surface) or possible omissions (e.g. in terrace area and they are then replaced with np.nan first.\n",
    "Rooms equal to zero were verified as being kots or similar."
   ],
   "metadata": {
    "collapsed": false
   }
  },
  {
   "cell_type": "code",
   "execution_count": 29,
   "outputs": [],
   "source": [
    "columns_with_omissions = [\"terrace_area\", \"garden_area\", \"land_surface\", \"price\"]\n",
    "df_cleaned= df.copy(deep=True)\n",
    "for column in columns_with_omissions:\n",
    "    df_cleaned[column] = df_cleaned[column].transform(lambda x: np.nan if x == 0 else x)"
   ],
   "metadata": {
    "collapsed": false,
    "pycharm": {
     "name": "#%%\n"
    }
   }
  },
  {
   "cell_type": "markdown",
   "source": [
    "Outliers are defined as values belonging <ins>only</ins> to percentile <5% and >95% corresponding to double the standard deviation."
   ],
   "metadata": {
    "collapsed": false
   }
  },
  {
   "cell_type": "code",
   "execution_count": 30,
   "outputs": [
    {
     "name": "stdout",
     "output_type": "stream",
     "text": [
      "6068 starting values\n",
      "excluding min outliers in price\n",
      "excluding  max outliers in price\n",
      "5429 values remaining after excluding price outliers\n",
      "5429 values remaining after excluding rooms_number outliers\n",
      "excluding min outliers in area\n",
      "excluding  max outliers in area\n",
      "5029 values remaining after excluding area outliers\n",
      "excluding min outliers in land_surface\n",
      "4471 values remaining after excluding land_surface outliers\n",
      "4471 values remaining after excluding facades_number outliers\n",
      "            source         price  rooms_number         area  terrace_area  \\\n",
      "count  4471.000000  4.471000e+03   4471.000000  4471.000000   1697.000000   \n",
      "mean      5.985238  4.370155e+05      3.850593   229.563632     34.452563   \n",
      "std       0.171208  2.670507e+05      1.586873    97.658607     35.505899   \n",
      "min       4.000000  1.295000e+05      0.000000   101.000000      1.000000   \n",
      "5%        6.000000  1.660000e+05      2.000000   120.000000      8.000000   \n",
      "6%        6.000000  1.700000e+05      2.000000   120.000000      8.000000   \n",
      "25%       6.000000  2.550000e+05      3.000000   157.000000     15.000000   \n",
      "50%       6.000000  3.517000e+05      4.000000   202.000000     25.000000   \n",
      "75%       6.000000  5.300000e+05      4.000000   276.000000     40.000000   \n",
      "94%       6.000000  9.450000e+05      6.000000   420.000000     81.200000   \n",
      "95%       6.000000  9.950000e+05      7.000000   440.000000     94.200000   \n",
      "max       6.000000  1.595000e+06     22.000000   591.000000    708.000000   \n",
      "\n",
      "        garden_area  land_surface  facades_number  \n",
      "count   1722.000000   4471.000000       33.000000  \n",
      "mean     665.878049    679.455155        2.939394  \n",
      "std     2055.031887    721.708980        0.863836  \n",
      "min        1.000000      1.000000        1.000000  \n",
      "5%        25.000000     76.000000        2.000000  \n",
      "6%        29.260000     82.000000        2.000000  \n",
      "25%      100.000000    183.000000        2.000000  \n",
      "50%      288.000000    400.000000        3.000000  \n",
      "75%      738.250000    890.000000        4.000000  \n",
      "94%     1864.800000   2165.400000        4.000000  \n",
      "95%     2007.600000   2291.000000        4.000000  \n",
      "max    40000.000000   3836.000000        4.000000  \n"
     ]
    }
   ],
   "source": [
    "import pandas as pd\n",
    "import numpy as np\n",
    "#only numeric columns considered. Percentiles 94% and 6% were extracted to verify such condition.\n",
    "print(f\"{len(df)} starting values\")\n",
    "#outlier filters were not applied for some columns not respecting normal distribution (concentration of values only to higher values)\n",
    "columns_to_be_ignored = [\"terrace_area\", \"source\", \"garden_area\"]\n",
    "for column in df_description:\n",
    "    #no filtering on terrace_area due to high variability\n",
    "    if column not in columns_to_be_ignored:\n",
    "        p95 = df_description.loc[\"95%\", column]\n",
    "        p94 = df_description.loc[\"94%\", column]\n",
    "        p06 = df_description.loc[\"6%\", column]\n",
    "        p05 = df_description.loc[\"5%\", column]\n",
    "        if p95 != p94:\n",
    "            print(f\"excluding min outliers in {column}\")\n",
    "            df_cleaned= df_cleaned[df_cleaned[column]<p95]\n",
    "        if p05 != p06:\n",
    "            df_cleaned= df_cleaned[df_cleaned[column]>p05]\n",
    "            print(f\"excluding  max outliers in {column}\")\n",
    "        print(f\"{len(df_cleaned)} values remaining after excluding {column} outliers\")\n",
    "\n",
    "print(df_cleaned.describe(percentiles=[0.95, 0.94, 0.75, 0.5, 0.25, 0.06, 0.05], include=np.number))"
   ],
   "metadata": {
    "collapsed": false,
    "pycharm": {
     "name": "#%%\n"
    }
   }
  },
  {
   "cell_type": "markdown",
   "source": [
    "### Converting categorical variables and adding numerical variables\n",
    "Categorical variables were analysed by assigning to them median price (target variable).\n",
    "\n",
    "For postcode a limited number of values remained for some postcodes after removing outliers."
   ],
   "metadata": {
    "collapsed": false,
    "pycharm": {
     "name": "#%% md\n"
    }
   }
  },
  {
   "cell_type": "code",
   "execution_count": 31,
   "outputs": [
    {
     "name": "stdout",
     "output_type": "stream",
     "text": [
      "                min        max          mean     median   len\n",
      "postcode                                                     \n",
      "2330      1350000.0  1350000.0  1.350000e+06  1350000.0   1.0\n",
      "2970       925000.0  1495000.0  1.211250e+06  1212500.0   4.0\n",
      "2350      1150000.0  1150000.0  1.150000e+06  1150000.0   1.0\n",
      "2321      1100000.0  1100000.0  1.100000e+06  1100000.0   1.0\n",
      "1000       289000.0  1500000.0  9.920357e+05   997000.0  28.0\n",
      "                min        max          mean     median   len\n",
      "postcode                                                     \n",
      "2330      1350000.0  1350000.0  1.350000e+06  1350000.0   1.0\n",
      "2970       925000.0  1495000.0  1.211250e+06  1212500.0   4.0\n",
      "2350      1150000.0  1150000.0  1.150000e+06  1150000.0   1.0\n",
      "2321      1100000.0  1100000.0  1.100000e+06  1100000.0   1.0\n",
      "1050       340000.0  1590000.0  1.027229e+06   985000.0  47.0\n"
     ]
    }
   ],
   "source": [
    "postcode_price = df_cleaned.groupby('postcode')['price'].agg([min,max,np.mean,np.median,len])\n",
    "#verifying count and values per postcode\n",
    "print(postcode_price.sort_values(by=\"median\", ascending=False).head(5))\n",
    "print(postcode_price.sort_values(by=\"mean\", ascending=False).head(5))\n",
    "\n",
    "def get_postcode_price(x):\n",
    "    postcode_price_median = postcode_price.loc[x,\"median\"]\n",
    "    return postcode_price_median\n",
    "\n",
    "df_cleaned[\"postcode_price\"] = df_cleaned[\"postcode\"].apply(get_postcode_price)"
   ],
   "metadata": {
    "collapsed": false,
    "pycharm": {
     "name": "#%%\n"
    }
   }
  },
  {
   "cell_type": "markdown",
   "source": [
    "For building state more values were available."
   ],
   "metadata": {
    "collapsed": false
   }
  },
  {
   "cell_type": "code",
   "execution_count": 32,
   "outputs": [
    {
     "data": {
      "text/plain": "'\\nstate_price = df_cleaned.groupby(\\'building_state\\')[\\'price\\'].agg([min,max,np.mean,np.median,len])\\n#verifying count and values per status\\nprint(postcode_price.sort_values(by=\"median\", ascending=False).head(5))\\nprint(postcode_price.sort_values(by=\"mean\", ascending=False).head(5))\\n\\ndef get_building_state_price(x):\\n    state_price_median = state_price.loc[x,\"median\"]\\n    return state_price_median\\n\\ndf_cleaned[\"building_state_price\"] = df_cleaned[\"building_state\"].apply(get_building_state_price)\\n'"
     },
     "execution_count": 32,
     "metadata": {},
     "output_type": "execute_result"
    }
   ],
   "source": [
    "\"\"\"\n",
    "state_price = df_cleaned.groupby('building_state')['price'].agg([min,max,np.mean,np.median,len])\n",
    "#verifying count and values per status\n",
    "print(postcode_price.sort_values(by=\"median\", ascending=False).head(5))\n",
    "print(postcode_price.sort_values(by=\"mean\", ascending=False).head(5))\n",
    "\n",
    "def get_building_state_price(x):\n",
    "    state_price_median = state_price.loc[x,\"median\"]\n",
    "    return state_price_median\n",
    "\n",
    "df_cleaned[\"building_state_price\"] = df_cleaned[\"building_state\"].apply(get_building_state_price)\n",
    "\"\"\""
   ],
   "metadata": {
    "collapsed": false,
    "pycharm": {
     "name": "#%%\n"
    }
   }
  },
  {
   "cell_type": "markdown",
   "source": [
    "For subtypes more values were available too."
   ],
   "metadata": {
    "collapsed": false
   }
  },
  {
   "cell_type": "code",
   "execution_count": 33,
   "outputs": [
    {
     "name": "stdout",
     "output_type": "stream",
     "text": [
      "                           min        max           mean    median    len\n",
      "property_subtype                                                         \n",
      "EXCEPTIONAL_PROPERTY  150000.0  1595000.0  736529.487179  697000.0   78.0\n",
      "VILLA                 175000.0  1595000.0  621161.750842  550000.0  594.0\n",
      "MANOR_HOUSE           290000.0   895000.0  561666.666667  547500.0    6.0\n",
      "CASTLE                535000.0   535000.0  535000.000000  535000.0    1.0\n",
      "MANSION               158000.0  1575000.0  629626.417323  529000.0  127.0\n",
      "                           min        max           mean    median    len\n",
      "property_subtype                                                         \n",
      "EXCEPTIONAL_PROPERTY  150000.0  1595000.0  736529.487179  697000.0   78.0\n",
      "MANSION               158000.0  1575000.0  629626.417323  529000.0  127.0\n",
      "VILLA                 175000.0  1595000.0  621161.750842  550000.0  594.0\n",
      "MANOR_HOUSE           290000.0   895000.0  561666.666667  547500.0    6.0\n",
      "CASTLE                535000.0   535000.0  535000.000000  535000.0    1.0\n"
     ]
    }
   ],
   "source": [
    "property_subtype_price = df_cleaned.groupby('property_subtype')['price'].agg([min,max,np.mean,np.median,len])\n",
    "#verifying count and values per status\n",
    "print(property_subtype_price.sort_values(by=\"median\", ascending=False).head(5))\n",
    "print(property_subtype_price.sort_values(by=\"mean\", ascending=False).head(5))\n",
    "\n",
    "def get_property_subtype_price(x):\n",
    "    subtype_price_median = property_subtype_price.loc[x,\"median\"]\n",
    "    return subtype_price_median\n",
    "\n",
    "df_cleaned[\"property_subtype_price\"] = df_cleaned[\"property_subtype\"].apply(get_property_subtype_price)"
   ],
   "metadata": {
    "collapsed": false,
    "pycharm": {
     "name": "#%%\n"
    }
   }
  },
  {
   "cell_type": "markdown",
   "source": [
    "### Correlation analysis\n",
    "Pearson method was used to analyse correlation"
   ],
   "metadata": {
    "collapsed": false
   }
  },
  {
   "cell_type": "code",
   "source": [
    "#first source column is removed\n",
    "#facades excluded not enough values\n",
    "df_cleaned.drop(columns=[\"source\",\"facades_number\"], inplace=True)"
   ],
   "metadata": {
    "collapsed": false,
    "pycharm": {
     "name": "#%%\n"
    }
   },
   "execution_count": 34,
   "outputs": []
  },
  {
   "cell_type": "code",
   "execution_count": 37,
   "outputs": [
    {
     "name": "stdout",
     "output_type": "stream",
     "text": [
      "price                     1.000000\n",
      "postcode_price            0.701602\n",
      "area                      0.569832\n",
      "property_subtype_price    0.383493\n",
      "rooms_number              0.361876\n",
      "land_surface              0.263403\n",
      "terrace_area              0.139844\n",
      "garden_area               0.040387\n",
      "Name: price, dtype: float64\n"
     ]
    },
    {
     "data": {
      "text/plain": "<AxesSubplot:>"
     },
     "execution_count": 37,
     "metadata": {},
     "output_type": "execute_result"
    },
    {
     "data": {
      "text/plain": "<Figure size 432x288 with 2 Axes>",
      "image/png": "[encoded data removed]"
     },
     "metadata": {
      "needs_background": "light"
     },
     "output_type": "display_data"
    }
   ],
   "source": [
    "df_cleaned = df_cleaned.select_dtypes(include=float)\n",
    "df_corr = df_cleaned.corr(method=\"pearson\")\n",
    "print(df_corr[\"price\"].sort_values(ascending=False))\n",
    "sns.heatmap(df_corr)"
   ],
   "metadata": {
    "collapsed": false,
    "pycharm": {
     "name": "#%%\n"
    }
   }
  }
 ],
 "metadata": {
  "kernelspec": {
   "display_name": "Python 3",
   "language": "python",
   "name": "python3"
  },
  "language_info": {
   "codemirror_mode": {
    "name": "ipython",
    "version": 2
   },
   "file_extension": ".py",
   "mimetype": "text/x-python",
   "name": "python",
   "nbconvert_exporter": "python",
   "pygments_lexer": "ipython2",
   "version": "2.7.6"
  }
 },
 "nbformat": 4,
 "nbformat_minor": 0
}