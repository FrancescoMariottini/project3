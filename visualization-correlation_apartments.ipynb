{
 "cells": [
  {
   "cell_type": "markdown",
   "source": [
    "# Visualization of correlation analysis for apartments\n",
    "Hereby the steps adopted for the correlation analysis are showed and described.\n",
    "\n",
    "### Importing cleaned dataset\n",
    "Original dataset is imported into SalesDataCleaner class before being cleaned."
   ],
   "metadata": {
    "collapsed": false,
    "pycharm": {
     "name": "#%% md\n"
    }
   }
  },
  {
   "cell_type": "code",
   "execution_count": 20,
   "metadata": {
    "collapsed": true
   },
   "outputs": [],
   "source": [
    "#importing necessary libraries\n",
    "from SalesDataCleaner import SalesDataCleaner\n",
    "import pandas as pd\n",
    "import numpy as np\n",
    "import seaborn as sns\n",
    "\n",
    "pd.options.display.max_columns = None\n",
    "pd.options.display.max_rows = None"
   ]
  },
  {
   "cell_type": "code",
   "execution_count": 21,
   "outputs": [
    {
     "name": "stdout",
     "output_type": "stream",
     "text": [
      "source                 int32\n",
      "hyperlink             object\n",
      "locality              object\n",
      "postcode              object\n",
      "house_is                bool\n",
      "property_subtype      object\n",
      "price                float64\n",
      "sale                  object\n",
      "rooms_number         float64\n",
      "area                 float64\n",
      "kitchen_has           object\n",
      "furnished             object\n",
      "open_fire             object\n",
      "terrace               object\n",
      "terrace_area         float64\n",
      "garden                object\n",
      "garden_area          float64\n",
      "land_surface         float64\n",
      "land_plot_surface    float64\n",
      "facades_number       float64\n",
      "swimming_pool_has     object\n",
      "building_state        object\n",
      "dtype: object\n"
     ]
    },
    {
     "name": "stderr",
     "output_type": "stream",
     "text": [
      "IOPub data rate exceeded.\n",
      "The notebook server will temporarily stop sending output\n",
      "to the client in order to avoid crashing it.\n",
      "To change this limit, set the config variable\n",
      "`--NotebookApp.iopub_data_rate_limit`.\n",
      "\n",
      "Current values:\n",
      "NotebookApp.iopub_data_rate_limit=1000000.0 (bytes/sec)\n",
      "NotebookApp.rate_limit_window=3.0 (secs)\n",
      "\n"
     ]
    }
   ],
   "source": [
    "#cleaning the dataset\n",
    "url = 'https://raw.githubusercontent.com/FrancescoMariottini/project3/main/inputs/all_sales_data.csv'\n",
    "\n",
    "sdc = SalesDataCleaner(url)\n",
    "\n",
    "sdc.clean()\n",
    "\n",
    "df = sdc.sales_data\n",
    "\n",
    "df = df[df.house_is==False]"
   ],
   "metadata": {
    "collapsed": false,
    "pycharm": {
     "name": "#%%\n"
    }
   }
  },
  {
   "cell_type": "markdown",
   "source": [
    "### Identifying and excluding numerical outliers from analysis\n",
    "Extreme outliers were identified and excluded from the correlation analysis in order to have a more accurate correlation analysis.\n",
    "\n",
    "Overview of the numerical variables in the cleaned dataset"
   ],
   "metadata": {
    "collapsed": false
   }
  },
  {
   "cell_type": "code",
   "execution_count": 22,
   "outputs": [
    {
     "name": "stdout",
     "output_type": "stream",
     "text": [
      "            source         price  rooms_number         area  terrace_area  \\\n",
      "count  5220.000000  5.220000e+03   5220.000000  5220.000000   5220.000000   \n",
      "mean      5.990421  4.198753e+05      2.226820   115.140613     11.491188   \n",
      "std       0.138091  4.029506e+05      4.062678   141.610346     23.889927   \n",
      "min       4.000000  3.000000e+04      0.000000     5.000000      0.000000   \n",
      "5%        6.000000  1.290000e+05      1.000000    45.000000      0.000000   \n",
      "6%        6.000000  1.375000e+05      1.000000    50.000000      0.000000   \n",
      "25%       6.000000  2.150000e+05      2.000000    77.000000      0.000000   \n",
      "50%       6.000000  2.950000e+05      2.000000    99.000000      4.000000   \n",
      "75%       6.000000  4.550230e+05      3.000000   130.000000     14.000000   \n",
      "94%       6.000000  9.950000e+05      3.000000   216.860000     41.860000   \n",
      "95%       6.000000  1.190000e+06      4.000000   225.000000     48.000000   \n",
      "max       6.000000  4.725000e+06    204.000000  9250.000000    400.000000   \n",
      "\n",
      "        garden_area  land_surface  facades_number  \n",
      "count   5220.000000        5220.0       25.000000  \n",
      "mean      33.372414           0.0        2.400000  \n",
      "std      481.176529           0.0        0.763763  \n",
      "min        0.000000           0.0        1.000000  \n",
      "5%         0.000000           0.0        2.000000  \n",
      "6%         0.000000           0.0        2.000000  \n",
      "25%        0.000000           0.0        2.000000  \n",
      "50%        0.000000           0.0        2.000000  \n",
      "75%        0.000000           0.0        3.000000  \n",
      "94%       26.000000           0.0        4.000000  \n",
      "95%       50.000000           0.0        4.000000  \n",
      "max    17800.000000           0.0        4.000000  \n",
      "\n",
      " 458 postcodes in the df\n"
     ]
    }
   ],
   "source": [
    "df_description = df.describe(percentiles=[0.95, 0.94, 0.75, 0.5, 0.25, 0.06, 0.05], include=np.number)\n",
    "print(df_description)\n",
    "print(f\"\\n {len(df.groupby('postcode').agg([len]))} postcodes in the df\")"
   ],
   "metadata": {
    "collapsed": false,
    "pycharm": {
     "name": "#%%\n"
    }
   }
  },
  {
   "cell_type": "markdown",
   "source": [
    "Zeros can hide non-realistic (e.g. in land surface) or possible omissions (e.g. in terrace area and they are then replaced with np.nan first.\n",
    "Rooms equal to zero were verified as being kots or similar."
   ],
   "metadata": {
    "collapsed": false
   }
  },
  {
   "cell_type": "code",
   "execution_count": 23,
   "outputs": [],
   "source": [
    "columns_with_omissions = [\"terrace_area\", \"garden_area\", \"land_surface\", \"price\"]\n",
    "df_cleaned= df.copy(deep=True)\n",
    "for column in columns_with_omissions:\n",
    "    df_cleaned[column] = df_cleaned[column].transform(lambda x: np.nan if x == 0 else x)"
   ],
   "metadata": {
    "collapsed": false,
    "pycharm": {
     "name": "#%%\n"
    }
   }
  },
  {
   "cell_type": "markdown",
   "source": [
    "Outliers are defined as values belonging <ins>only</ins> to percentile <5% and >95% corresponding to double the standard deviation."
   ],
   "metadata": {
    "collapsed": false
   }
  },
  {
   "cell_type": "code",
   "execution_count": 24,
   "outputs": [
    {
     "name": "stdout",
     "output_type": "stream",
     "text": [
      "5220 starting values\n",
      "excluding min outliers in price\n",
      "excluding  max outliers in price\n",
      "4695 values remaining after excluding price outliers\n",
      "excluding min outliers in rooms_number\n",
      "4500 values remaining after excluding rooms_number outliers\n",
      "excluding min outliers in area\n",
      "excluding  max outliers in area\n",
      "4261 values remaining after excluding area outliers\n",
      "4261 values remaining after excluding land_surface outliers\n",
      "4261 values remaining after excluding facades_number outliers\n",
      "            source         price  rooms_number         area  terrace_area  \\\n",
      "count  4261.000000  4.261000e+03   4261.000000  4261.000000   2435.000000   \n",
      "mean      5.991551  3.504725e+05      2.091997   104.217320     17.792608   \n",
      "std       0.129731  1.859483e+05      0.681054    34.514203     20.221862   \n",
      "min       4.000000  1.300000e+05      0.000000    46.000000      1.000000   \n",
      "5%        6.000000  1.595000e+05      1.000000    60.000000      3.000000   \n",
      "6%        6.000000  1.650000e+05      1.000000    60.000000      3.000000   \n",
      "25%       6.000000  2.250000e+05      2.000000    80.000000      7.000000   \n",
      "50%       6.000000  2.945000e+05      2.000000    97.000000     12.000000   \n",
      "75%       6.000000  4.200000e+05      3.000000   120.000000     21.000000   \n",
      "94%       6.000000  6.990000e+05      3.000000   169.400000     49.000000   \n",
      "95%       6.000000  7.500000e+05      3.000000   175.000000     51.000000   \n",
      "max       6.000000  1.180000e+06      3.000000   223.000000    330.000000   \n",
      "\n",
      "        garden_area  land_surface  facades_number  \n",
      "count    297.000000           0.0       18.000000  \n",
      "mean     495.686869           NaN        2.500000  \n",
      "std     1908.933049           NaN        0.857493  \n",
      "min        1.000000           NaN        1.000000  \n",
      "5%        12.800000           NaN        1.850000  \n",
      "6%        15.000000           NaN        2.000000  \n",
      "25%       42.000000           NaN        2.000000  \n",
      "50%       99.000000           NaN        2.000000  \n",
      "75%      182.000000           NaN        3.000000  \n",
      "94%      748.000000           NaN        4.000000  \n",
      "95%     1050.000000           NaN        4.000000  \n",
      "max    17800.000000           NaN        4.000000  \n"
     ]
    }
   ],
   "source": [
    "import pandas as pd\n",
    "import numpy as np\n",
    "#only numeric columns considered. Percentiles 94% and 6% were extracted to verify such condition.\n",
    "print(f\"{len(df)} starting values\")\n",
    "#outlier filters were not applied for some columns not respecting normal distribution (concentration of values only to higher values)\n",
    "columns_to_be_ignored = [\"terrace_area\", \"source\", \"garden_area\"]\n",
    "for column in df_description:\n",
    "    #no filtering on terrace_area due to high variability\n",
    "    if column not in columns_to_be_ignored:\n",
    "        p95 = df_description.loc[\"95%\", column]\n",
    "        p94 = df_description.loc[\"94%\", column]\n",
    "        p06 = df_description.loc[\"6%\", column]\n",
    "        p05 = df_description.loc[\"5%\", column]\n",
    "        if p95 != p94:\n",
    "            print(f\"excluding min outliers in {column}\")\n",
    "            df_cleaned= df_cleaned[df_cleaned[column]<p95]\n",
    "        if p05 != p06:\n",
    "            df_cleaned= df_cleaned[df_cleaned[column]>p05]\n",
    "            print(f\"excluding  max outliers in {column}\")\n",
    "        print(f\"{len(df_cleaned)} values remaining after excluding {column} outliers\")\n",
    "\n",
    "print(df_cleaned.describe(percentiles=[0.95, 0.94, 0.75, 0.5, 0.25, 0.06, 0.05], include=np.number))"
   ],
   "metadata": {
    "collapsed": false,
    "pycharm": {
     "name": "#%%\n"
    }
   }
  },
  {
   "cell_type": "markdown",
   "source": [
    "### Converting categorical variables and adding numerical variables\n",
    "Categorical variables were analysed by assigning to them median price (target variable).\n",
    "\n",
    "For postcode a limited number of values remained for some postcodes after removing outliers."
   ],
   "metadata": {
    "collapsed": false,
    "pycharm": {
     "name": "#%% md\n"
    }
   }
  },
  {
   "cell_type": "code",
   "execution_count": 25,
   "outputs": [
    {
     "name": "stdout",
     "output_type": "stream",
     "text": [
      "               min        max      mean    median   len\n",
      "postcode                                               \n",
      "9830      849500.0   849500.0  849500.0  849500.0   1.0\n",
      "2820      683000.0   683000.0  683000.0  683000.0   1.0\n",
      "1933      316000.0  1095000.0  701750.0  655000.0  12.0\n",
      "3800      650000.0   650000.0  650000.0  650000.0   1.0\n",
      "4900      440000.0   725000.0  595000.0  607500.0   4.0\n",
      "               min        max           mean    median   len\n",
      "postcode                                                    \n",
      "9830      849500.0   849500.0  849500.000000  849500.0   1.0\n",
      "1933      316000.0  1095000.0  701750.000000  655000.0  12.0\n",
      "2820      683000.0   683000.0  683000.000000  683000.0   1.0\n",
      "3800      650000.0   650000.0  650000.000000  650000.0   1.0\n",
      "1332      330000.0   995000.0  645227.272727  540000.0  11.0\n"
     ]
    }
   ],
   "source": [
    "postcode_price = df_cleaned.groupby('postcode')['price'].agg([min,max,np.mean,np.median,len])\n",
    "#verifying count and values per postcode\n",
    "print(postcode_price.sort_values(by=\"median\", ascending=False).head(5))\n",
    "print(postcode_price.sort_values(by=\"mean\", ascending=False).head(5))\n",
    "\n",
    "def get_postcode_price(x):\n",
    "    postcode_price_median = postcode_price.loc[x,\"median\"]\n",
    "    return postcode_price_median\n",
    "\n",
    "df_cleaned[\"postcode_price\"] = df_cleaned[\"postcode\"].apply(get_postcode_price)"
   ],
   "metadata": {
    "collapsed": false,
    "pycharm": {
     "name": "#%%\n"
    }
   }
  },
  {
   "cell_type": "markdown",
   "source": [
    "For building state more values were available.\n"
   ],
   "metadata": {
    "collapsed": false
   }
  },
  {
   "cell_type": "code",
   "execution_count": 26,
   "outputs": [
    {
     "name": "stdout",
     "output_type": "stream",
     "text": [
      "               min        max      mean    median   len\n",
      "postcode                                               \n",
      "9830      849500.0   849500.0  849500.0  849500.0   1.0\n",
      "2820      683000.0   683000.0  683000.0  683000.0   1.0\n",
      "1933      316000.0  1095000.0  701750.0  655000.0  12.0\n",
      "3800      650000.0   650000.0  650000.0  650000.0   1.0\n",
      "4900      440000.0   725000.0  595000.0  607500.0   4.0\n",
      "               min        max           mean    median   len\n",
      "postcode                                                    \n",
      "9830      849500.0   849500.0  849500.000000  849500.0   1.0\n",
      "1933      316000.0  1095000.0  701750.000000  655000.0  12.0\n",
      "2820      683000.0   683000.0  683000.000000  683000.0   1.0\n",
      "3800      650000.0   650000.0  650000.000000  650000.0   1.0\n",
      "1332      330000.0   995000.0  645227.272727  540000.0  11.0\n"
     ]
    }
   ],
   "source": [
    "state_price = df_cleaned.groupby('building_state_agg')['price'].agg([min,max,np.mean,np.median,len])\n",
    "#verifying count and values per status\n",
    "print(postcode_price.sort_values(by=\"median\", ascending=False).head(5))\n",
    "print(postcode_price.sort_values(by=\"mean\", ascending=False).head(5))\n",
    "\n",
    "def get_building_state_price(x):\n",
    "    state_price_median = state_price.loc[x,\"median\"]\n",
    "    return state_price_median\n",
    "\n",
    "df_cleaned[\"building_state_price\"] = df_cleaned[\"building_state_agg\"].apply(get_building_state_price)"
   ],
   "metadata": {
    "collapsed": false,
    "pycharm": {
     "name": "#%%\n"
    }
   }
  },
  {
   "cell_type": "markdown",
   "source": [
    "For subtypes more values were available too."
   ],
   "metadata": {
    "collapsed": false
   }
  },
  {
   "cell_type": "code",
   "execution_count": 27,
   "outputs": [
    {
     "name": "stdout",
     "output_type": "stream",
     "text": [
      "                       min        max           mean    median    len\n",
      "property_subtype                                                     \n",
      "PENTHOUSE         160000.0  1150000.0  496602.717213  429500.0  244.0\n",
      "LOFT              180000.0   949000.0  407275.384615  392450.0   52.0\n",
      "TRIPLEX           142500.0   825000.0  379882.142857  392425.0   14.0\n",
      "GROUND_FLOOR      135000.0  1095000.0  356840.456432  310000.0  241.0\n",
      "DUPLEX            132000.0  1075000.0  357229.168285  299000.0  309.0\n",
      "                       min        max           mean    median    len\n",
      "property_subtype                                                     \n",
      "PENTHOUSE         160000.0  1150000.0  496602.717213  429500.0  244.0\n",
      "LOFT              180000.0   949000.0  407275.384615  392450.0   52.0\n",
      "TRIPLEX           142500.0   825000.0  379882.142857  392425.0   14.0\n",
      "DUPLEX            132000.0  1075000.0  357229.168285  299000.0  309.0\n",
      "GROUND_FLOOR      135000.0  1095000.0  356840.456432  310000.0  241.0\n"
     ]
    }
   ],
   "source": [
    "property_subtype_price = df_cleaned.groupby('property_subtype')['price'].agg([min,max,np.mean,np.median,len])\n",
    "#verifying count and values per status\n",
    "print(property_subtype_price.sort_values(by=\"median\", ascending=False).head(5))\n",
    "print(property_subtype_price.sort_values(by=\"mean\", ascending=False).head(5))\n",
    "\n",
    "def get_property_subtype_price(x):\n",
    "    subtype_price_median = property_subtype_price.loc[x,\"median\"]\n",
    "    return subtype_price_median\n",
    "\n",
    "df_cleaned[\"property_subtype_price\"] = df_cleaned[\"property_subtype\"].apply(get_property_subtype_price)"
   ],
   "metadata": {
    "collapsed": false,
    "pycharm": {
     "name": "#%%\n"
    }
   }
  },
  {
   "cell_type": "markdown",
   "source": [
    "### Correlation analysis\n",
    "Pearson method was used to analyse correlation"
   ],
   "metadata": {
    "collapsed": false
   }
  },
  {
   "cell_type": "code",
   "source": [
    "#first source column is removed\n",
    "#facades excluded not enough values\n",
    "df_cleaned.drop(columns=[\"source\",\"facades_number\",\"land_surface\"], inplace=True)"
   ],
   "metadata": {
    "collapsed": false,
    "pycharm": {
     "name": "#%%\n"
    }
   },
   "execution_count": 28,
   "outputs": []
  },
  {
   "cell_type": "code",
   "execution_count": 30,
   "outputs": [
    {
     "name": "stdout",
     "output_type": "stream",
     "text": [
      "price                     1.000000\n",
      "postcode_price            0.664084\n",
      "area                      0.570852\n",
      "rooms_number              0.364726\n",
      "terrace_area              0.352161\n",
      "property_subtype_price    0.209374\n",
      "building_state_price      0.112319\n",
      "garden_area               0.108175\n",
      "Name: price, dtype: float64\n"
     ]
    },
    {
     "data": {
      "text/plain": "<AxesSubplot:>"
     },
     "execution_count": 30,
     "metadata": {},
     "output_type": "execute_result"
    },
    {
     "data": {
      "text/plain": "<Figure size 432x288 with 2 Axes>",
      "image/png": "[encoded data removed]"
     },
     "metadata": {
      "needs_background": "light"
     },
     "output_type": "display_data"
    }
   ],
   "source": [
    "df_cleaned = df_cleaned.select_dtypes(include=float)\n",
    "df_corr = df_cleaned.corr(method=\"pearson\")\n",
    "print(df_corr[\"price\"].sort_values(ascending=False))\n",
    "sns.heatmap(df_corr)\n"
   ],
   "metadata": {
    "collapsed": false,
    "pycharm": {
     "name": "#%%\n"
    }
   }
  }
 ],
 "metadata": {
  "kernelspec": {
   "display_name": "Python 3",
   "language": "python",
   "name": "python3"
  },
  "language_info": {
   "codemirror_mode": {
    "name": "ipython",
    "version": 2
   },
   "file_extension": ".py",
   "mimetype": "text/x-python",
   "name": "python",
   "nbconvert_exporter": "python",
   "pygments_lexer": "ipython2",
   "version": "2.7.6"
  }
 },
 "nbformat": 4,
 "nbformat_minor": 0
}