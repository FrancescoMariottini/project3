{
 "cells": [
  {
   "cell_type": "markdown",
   "metadata": {},
   "source": [
    "## Apartments Price Prediction in Belgium\n",
    "Hereby a model to predict apartments price in Belgium is described.\n",
    "Used training and test dataset were generated within the project [residential real estate analysis](https://github.com/FrancescoMariottini/residential-real-estate-analysis)."
   ]
  },
  {
   "cell_type": "code",
   "execution_count": 27,
   "metadata": {
    "pycharm": {
     "name": "#%%\n"
    }
   },
   "outputs": [],
   "source": [
    "# import created modules\n",
    "from source.data_cleaning import DataCleaning as dtcln\n",
    "from source.data_cleaning import describe_with_tukey_fences\n",
    "import source.modeling as modeling\n",
    "import source.evaluation as evaluation\n",
    "\n",
    "# import standard libraries\n",
    "import os\n",
    "import numpy as np\n",
    "import pandas as pd\n",
    "import scipy.stats as stats\n",
    "\n",
    "#import scikit modules\n",
    "from sklearn.model_selection import train_test_split\n",
    "from sklearn.linear_model import Lasso\n",
    "from sklearn.feature_selection import SelectFromModel\n",
    "from sklearn.linear_model import LinearRegression\n",
    "from sklearn.metrics import r2_score, mean_squared_error, mean_absolute_error\n",
    "\n",
    "%matplotlib inline\n",
    "import matplotlib.pyplot as plt\n",
    "import seaborn as sns\n",
    "import matplotlib.pyplot as plt\n",
    "\n",
    "from tabulate import tabulate\n",
    "#below two packages are for feature selection\n",
    "from sklearn.linear_model import Lasso\n",
    "from sklearn.feature_selection import SelectFromModel\n",
    "\n",
    "REAL_ESTATE_CSV_FILEPATH = os.path.join(os.getcwd(), 'data', 'clean_dataset.csv')\n",
    "REAL_ESTATE_SB_CSV_FILEPATH = os.path.join(os.getcwd(), 'assets', 'outputs', 'df_with_statbel.csv')\n",
    "CLEANED_CSV_FILEPATH = os.path.join(os.getcwd(), 'assets', 'outputs', 'df_after_cleaning.csv')\n",
    "\n",
    "#['source','land_surface', 'facades_number', 'swimming_pool_has','postcode_median_price',\n",
    "#              'property_subtype_median_facades_number', 'building_state_agg_median_price']\n",
    "NUM_CV_FOLDS = 3\n",
    "DEGREE_MAX = 3"
   ]
  },
  {
   "cell_type": "markdown",
   "metadata": {
    "pycharm": {
     "name": "#%% md\n"
    }
   },
   "source": [
    "## Data preprocessing: cleaning and conversion from text to numerical"
   ]
  },
  {
   "cell_type": "code",
   "execution_count": 28,
   "metadata": {
    "pycharm": {
     "name": "#%%\n"
    }
   },
   "outputs": [
    {
     "name": "stdout",
     "output_type": "stream",
     "text": [
      "Initial dataset, shape: (682, 19)\n",
      "Aggregated parameters replacing categorical ones, shape: (682, 19)\n",
      "0 Dropped duplicates, shape: (682, 19)\n"
     ]
    }
   ],
   "source": [
    "cleaner = dtcln(property_subtype = \"APARTMENT_BLOCK\")\n",
    "df, df_outliers = cleaner.get_cleaned_dataframe(cleaned_csv_path=CLEANED_CSV_FILEPATH)\n",
    "#excluding text columns as requested (boolean kept)\n",
    "df = df.select_dtypes(exclude=['object'])"
   ]
  },
  {
   "cell_type": "code",
   "execution_count": 29,
   "metadata": {
    "pycharm": {
     "name": "#%%\n"
    }
   },
   "outputs": [
    {
     "data": {
      "text/plain": "         column           method type count     %  first_outlier  \\\n0         price  fence_tukey_max  max    49  7.18      1530000.0   \n1  rooms_number  fence_tukey_max  max    37  5.43           14.0   \n2          area  fence_tukey_max  max    43  6.30          716.0   \n\n                                               index  \n0  [5, 14, 31, 47, 64, 82, 110, 129, 130, 132, 13...  \n1  [47, 77, 121, 143, 172, 179, 181, 187, 191, 21...  \n2  [31, 47, 129, 130, 132, 133, 143, 150, 165, 17...  ",
      "text/html": "<div>\n<style scoped>\n    .dataframe tbody tr th:only-of-type {\n        vertical-align: middle;\n    }\n\n    .dataframe tbody tr th {\n        vertical-align: top;\n    }\n\n    .dataframe thead th {\n        text-align: right;\n    }\n</style>\n<table border=\"1\" class=\"dataframe\">\n  <thead>\n    <tr style=\"text-align: right;\">\n      <th></th>\n      <th>column</th>\n      <th>method</th>\n      <th>type</th>\n      <th>count</th>\n      <th>%</th>\n      <th>first_outlier</th>\n      <th>index</th>\n    </tr>\n  </thead>\n  <tbody>\n    <tr>\n      <th>0</th>\n      <td>price</td>\n      <td>fence_tukey_max</td>\n      <td>max</td>\n      <td>49</td>\n      <td>7.18</td>\n      <td>1530000.0</td>\n      <td>[5, 14, 31, 47, 64, 82, 110, 129, 130, 132, 13...</td>\n    </tr>\n    <tr>\n      <th>1</th>\n      <td>rooms_number</td>\n      <td>fence_tukey_max</td>\n      <td>max</td>\n      <td>37</td>\n      <td>5.43</td>\n      <td>14.0</td>\n      <td>[47, 77, 121, 143, 172, 179, 181, 187, 191, 21...</td>\n    </tr>\n    <tr>\n      <th>2</th>\n      <td>area</td>\n      <td>fence_tukey_max</td>\n      <td>max</td>\n      <td>43</td>\n      <td>6.30</td>\n      <td>716.0</td>\n      <td>[31, 47, 129, 130, 132, 133, 143, 150, 165, 17...</td>\n    </tr>\n  </tbody>\n</table>\n</div>"
     },
     "execution_count": 29,
     "metadata": {},
     "output_type": "execute_result"
    }
   ],
   "source": [
    "#show results of outliers detection and removal\n",
    "df_outliers"
   ]
  },
  {
   "cell_type": "code",
   "execution_count": 30,
   "metadata": {
    "pycharm": {
     "name": "#%%\n"
    }
   },
   "outputs": [
    {
     "name": "stdout",
     "output_type": "stream",
     "text": [
      "<class 'pandas.core.frame.DataFrame'>\n",
      "Int64Index: 682 entries, 0 to 681\n",
      "Data columns (total 16 columns):\n",
      " #   Column                Non-Null Count  Dtype  \n",
      "---  ------                --------------  -----  \n",
      " 0   source                682 non-null    int64  \n",
      " 1   postcode              682 non-null    int64  \n",
      " 2   house_is              682 non-null    bool   \n",
      " 3   price                 682 non-null    float64\n",
      " 4   rooms_number          682 non-null    float64\n",
      " 5   area                  682 non-null    float64\n",
      " 6   equipped_kitchen_has  682 non-null    bool   \n",
      " 7   furnished             682 non-null    bool   \n",
      " 8   open_fire             682 non-null    bool   \n",
      " 9   terrace               682 non-null    bool   \n",
      " 10  terrace_area          682 non-null    float64\n",
      " 11  garden                682 non-null    bool   \n",
      " 12  garden_area           682 non-null    float64\n",
      " 13  land_surface          682 non-null    float64\n",
      " 14  swimming_pool_has     682 non-null    bool   \n",
      " 15  facades_number        682 non-null    float64\n",
      "dtypes: bool(7), float64(7), int64(2)\n",
      "memory usage: 57.9 KB\n"
     ]
    }
   ],
   "source": [
    "#show no null values and no text types\n",
    "df.info()"
   ]
  },
  {
   "cell_type": "code",
   "execution_count": 31,
   "metadata": {
    "pycharm": {
     "name": "#%%\n"
    }
   },
   "outputs": [
    {
     "data": {
      "text/plain": "                 source      postcode         price  rooms_number  \\\ncount             682.0    682.000000  6.820000e+02    682.000000   \nmean                6.0   4178.466276  7.043215e+05      6.109971   \nstd                 0.0   2650.285484  9.621132e+05      8.060231   \nmin                 6.0   1000.000000  8.000000e+04      0.000000   \n5%                  6.0   1030.000000  1.500000e+05      0.000000   \n6%                  6.0   1030.000000  1.590000e+05      0.000000   \n25%                 6.0   1210.000000  2.750000e+05      3.000000   \n50%                 6.0   4040.000000  4.500000e+05      5.000000   \n75%                 6.0   6060.000000  7.737500e+05      7.000000   \n94%                 6.0   9000.000000  1.750000e+06     12.000000   \n95%                 6.0   9029.450000  1.850000e+06     14.000000   \nmax                 6.0   9900.000000  1.500000e+07    100.000000   \nfence_tukey_min     6.0  -6065.000000 -4.731250e+05     -3.000000   \nfence_tukey_max     6.0  13335.000000  1.521875e+06     13.000000   \n\n                        area  terrace_area   garden_area  land_surface  \\\ncount             682.000000    682.000000    682.000000    682.000000   \nmean              375.249267      7.384164     63.778592    511.190616   \nstd               525.290907     20.094905    500.620076   2421.577887   \nmin                42.000000      0.000000      0.000000      0.000000   \n5%                112.150000      0.000000      0.000000      0.000000   \n6%                130.000000      0.000000      0.000000      0.000000   \n25%               195.000000      0.000000      0.000000     55.000000   \n50%               267.500000      0.000000      0.000000    150.000000   \n75%               400.000000      1.500000      0.000000    337.250000   \n94%               720.000000     40.000000    143.980000   1337.400000   \n95%               874.700000     40.000000    184.850000   1466.400000   \nmax              8800.000000    200.000000  10000.000000  45000.000000   \nfence_tukey_min  -112.500000     -2.250000      0.000000   -368.375000   \nfence_tukey_max   707.500000      3.750000      0.000000    760.625000   \n\n                 facades_number  \ncount                     682.0  \nmean                        0.0  \nstd                         0.0  \nmin                         0.0  \n5%                          0.0  \n6%                          0.0  \n25%                         0.0  \n50%                         0.0  \n75%                         0.0  \n94%                         0.0  \n95%                         0.0  \nmax                         0.0  \nfence_tukey_min             0.0  \nfence_tukey_max             0.0  ",
      "text/html": "<div>\n<style scoped>\n    .dataframe tbody tr th:only-of-type {\n        vertical-align: middle;\n    }\n\n    .dataframe tbody tr th {\n        vertical-align: top;\n    }\n\n    .dataframe thead th {\n        text-align: right;\n    }\n</style>\n<table border=\"1\" class=\"dataframe\">\n  <thead>\n    <tr style=\"text-align: right;\">\n      <th></th>\n      <th>source</th>\n      <th>postcode</th>\n      <th>price</th>\n      <th>rooms_number</th>\n      <th>area</th>\n      <th>terrace_area</th>\n      <th>garden_area</th>\n      <th>land_surface</th>\n      <th>facades_number</th>\n    </tr>\n  </thead>\n  <tbody>\n    <tr>\n      <th>count</th>\n      <td>682.0</td>\n      <td>682.000000</td>\n      <td>6.820000e+02</td>\n      <td>682.000000</td>\n      <td>682.000000</td>\n      <td>682.000000</td>\n      <td>682.000000</td>\n      <td>682.000000</td>\n      <td>682.0</td>\n    </tr>\n    <tr>\n      <th>mean</th>\n      <td>6.0</td>\n      <td>4178.466276</td>\n      <td>7.043215e+05</td>\n      <td>6.109971</td>\n      <td>375.249267</td>\n      <td>7.384164</td>\n      <td>63.778592</td>\n      <td>511.190616</td>\n      <td>0.0</td>\n    </tr>\n    <tr>\n      <th>std</th>\n      <td>0.0</td>\n      <td>2650.285484</td>\n      <td>9.621132e+05</td>\n      <td>8.060231</td>\n      <td>525.290907</td>\n      <td>20.094905</td>\n      <td>500.620076</td>\n      <td>2421.577887</td>\n      <td>0.0</td>\n    </tr>\n    <tr>\n      <th>min</th>\n      <td>6.0</td>\n      <td>1000.000000</td>\n      <td>8.000000e+04</td>\n      <td>0.000000</td>\n      <td>42.000000</td>\n      <td>0.000000</td>\n      <td>0.000000</td>\n      <td>0.000000</td>\n      <td>0.0</td>\n    </tr>\n    <tr>\n      <th>5%</th>\n      <td>6.0</td>\n      <td>1030.000000</td>\n      <td>1.500000e+05</td>\n      <td>0.000000</td>\n      <td>112.150000</td>\n      <td>0.000000</td>\n      <td>0.000000</td>\n      <td>0.000000</td>\n      <td>0.0</td>\n    </tr>\n    <tr>\n      <th>6%</th>\n      <td>6.0</td>\n      <td>1030.000000</td>\n      <td>1.590000e+05</td>\n      <td>0.000000</td>\n      <td>130.000000</td>\n      <td>0.000000</td>\n      <td>0.000000</td>\n      <td>0.000000</td>\n      <td>0.0</td>\n    </tr>\n    <tr>\n      <th>25%</th>\n      <td>6.0</td>\n      <td>1210.000000</td>\n      <td>2.750000e+05</td>\n      <td>3.000000</td>\n      <td>195.000000</td>\n      <td>0.000000</td>\n      <td>0.000000</td>\n      <td>55.000000</td>\n      <td>0.0</td>\n    </tr>\n    <tr>\n      <th>50%</th>\n      <td>6.0</td>\n      <td>4040.000000</td>\n      <td>4.500000e+05</td>\n      <td>5.000000</td>\n      <td>267.500000</td>\n      <td>0.000000</td>\n      <td>0.000000</td>\n      <td>150.000000</td>\n      <td>0.0</td>\n    </tr>\n    <tr>\n      <th>75%</th>\n      <td>6.0</td>\n      <td>6060.000000</td>\n      <td>7.737500e+05</td>\n      <td>7.000000</td>\n      <td>400.000000</td>\n      <td>1.500000</td>\n      <td>0.000000</td>\n      <td>337.250000</td>\n      <td>0.0</td>\n    </tr>\n    <tr>\n      <th>94%</th>\n      <td>6.0</td>\n      <td>9000.000000</td>\n      <td>1.750000e+06</td>\n      <td>12.000000</td>\n      <td>720.000000</td>\n      <td>40.000000</td>\n      <td>143.980000</td>\n      <td>1337.400000</td>\n      <td>0.0</td>\n    </tr>\n    <tr>\n      <th>95%</th>\n      <td>6.0</td>\n      <td>9029.450000</td>\n      <td>1.850000e+06</td>\n      <td>14.000000</td>\n      <td>874.700000</td>\n      <td>40.000000</td>\n      <td>184.850000</td>\n      <td>1466.400000</td>\n      <td>0.0</td>\n    </tr>\n    <tr>\n      <th>max</th>\n      <td>6.0</td>\n      <td>9900.000000</td>\n      <td>1.500000e+07</td>\n      <td>100.000000</td>\n      <td>8800.000000</td>\n      <td>200.000000</td>\n      <td>10000.000000</td>\n      <td>45000.000000</td>\n      <td>0.0</td>\n    </tr>\n    <tr>\n      <th>fence_tukey_min</th>\n      <td>6.0</td>\n      <td>-6065.000000</td>\n      <td>-4.731250e+05</td>\n      <td>-3.000000</td>\n      <td>-112.500000</td>\n      <td>-2.250000</td>\n      <td>0.000000</td>\n      <td>-368.375000</td>\n      <td>0.0</td>\n    </tr>\n    <tr>\n      <th>fence_tukey_max</th>\n      <td>6.0</td>\n      <td>13335.000000</td>\n      <td>1.521875e+06</td>\n      <td>13.000000</td>\n      <td>707.500000</td>\n      <td>3.750000</td>\n      <td>0.000000</td>\n      <td>760.625000</td>\n      <td>0.0</td>\n    </tr>\n  </tbody>\n</table>\n</div>"
     },
     "execution_count": 31,
     "metadata": {},
     "output_type": "execute_result"
    }
   ],
   "source": [
    "#show statistical information to consider further processing\n",
    "describe_with_tukey_fences(df)"
   ]
  },
  {
   "cell_type": "markdown",
   "metadata": {
    "pycharm": {
     "name": "#%% md\n"
    }
   },
   "source": [
    "## Features selection"
   ]
  },
  {
   "cell_type": "code",
   "execution_count": 32,
   "metadata": {
    "pycharm": {
     "name": "#%%\n"
    }
   },
   "outputs": [],
   "source": [
    "#Drop features which are not relevent\n",
    "#FM facades improve you could have a look at it\n",
    "df = df.drop(['source','land_surface', 'swimming_pool_has'],axis=1)\n",
    "#calculating price per metre square to detect outliers\n",
    "df['price_per_sqmtr'] = df['price'] / df['area']"
   ]
  },
  {
   "cell_type": "code",
   "execution_count": 33,
   "metadata": {
    "pycharm": {
     "name": "#%%\n"
    }
   },
   "outputs": [],
   "source": [
    "#postcode_stats contains the no. of properties in each postcode\n",
    "postcode_stats = df['postcode'].value_counts(ascending=False)"
   ]
  },
  {
   "cell_type": "markdown",
   "metadata": {},
   "source": [
    "Any location having less than 10 data points should be tagged as \"9999\" location.\n",
    "This way number of categories can be reduced by huge amount.\n",
    "Later on when we do one hot encoding, it will help us with having fewer dummy columns"
   ]
  },
  {
   "cell_type": "code",
   "execution_count": 34,
   "metadata": {
    "pycharm": {
     "name": "#%%\n"
    }
   },
   "outputs": [],
   "source": [
    "postcode_value_less_than_10 = postcode_stats[postcode_stats<=10]\n",
    "postcode_value_less_than_10\n",
    "df['postcode'] = df['postcode'].apply(lambda x: '9999' if x in postcode_value_less_than_10 else x)"
   ]
  },
  {
   "cell_type": "code",
   "execution_count": 35,
   "metadata": {
    "pycharm": {
     "name": "#%%\n"
    }
   },
   "outputs": [],
   "source": [
    "#FM I would not remove outliers by SD since distribution does not seem normal to me\n",
    "''' Outlier Removal Using Standard Deviation and Mean '''\n",
    "def remove_pps_outliers(df):\n",
    "    df_out = pd.DataFrame()\n",
    "    for key,subdf in df.groupby('postcode'):\n",
    "        m =np.mean(subdf.price_per_sqmtr)\n",
    "        sd = np.std(subdf.price_per_sqmtr)\n",
    "        reduced_df = subdf[(subdf.price_per_sqmtr > (m - (2 * sd))) & (subdf.price_per_sqmtr <= (m +(2 * sd))) ]\n",
    "        df_out = pd.concat([df_out,reduced_df],ignore_index= True)\n",
    "    return df_out\n",
    "#Applying the function on our dataframe\n",
    "df = remove_pps_outliers(df)\n",
    "#Now, we can drop price per metre square column as our outlier detection is done '''\n",
    "df = df.drop(['price_per_sqmtr'],axis='columns')"
   ]
  },
  {
   "cell_type": "code",
   "execution_count": 36,
   "metadata": {
    "pycharm": {
     "name": "#%%\n"
    }
   },
   "outputs": [],
   "source": [
    "''' To check correlation of features using chisquare method\n",
    "It gives us the list of featues which are relevant and which are not relevant for the model '''\n",
    "class ChiSquare:\n",
    "    def __init__(self, dataframe):\n",
    "        self.df = dataframe\n",
    "        self.p = None #P-Value\n",
    "        self.chi2 = None #Chi Test Statistic\n",
    "        self.dof = None\n",
    "\n",
    "        self.dfObserved = None\n",
    "        self.dfExpected = None\n",
    "\n",
    "    def _print_chisquare_result(self, colX, alpha):\n",
    "        result = \"\"\n",
    "        if self.p<alpha:\n",
    "            result=\"{0} is IMPORTANT for Prediction\".format(colX)\n",
    "        else:\n",
    "            result=\"{0} is NOT an important predictor. (Discard {0} from model)\".format(colX)\n",
    "\n",
    "        #print(result)\n",
    "\n",
    "    def TestIndependence(self,colX,colY, alpha=0.05):\n",
    "        X = self.df[colX].astype(str)\n",
    "        Y = self.df[colY].astype(str)\n",
    "\n",
    "        self.dfObserved = pd.crosstab(Y,X)\n",
    "        chi2, p, dof, expected = stats.chi2_contingency(self.dfObserved.values)\n",
    "        self.p = p\n",
    "        self.chi2 = chi2\n",
    "        self.dof = dof\n",
    "\n",
    "        self.dfExpected = pd.DataFrame(expected, columns=self.dfObserved.columns, index = self.dfObserved.index)\n",
    "\n",
    "        self._print_chisquare_result(colX,alpha)\n",
    "\n",
    "#Initialize ChiSquare Class\n",
    "cT = ChiSquare(df)\n",
    "\n",
    "#Feature Selection\n",
    "testColumns = ['postcode', 'house_is', 'rooms_number', #'property_subtype'\n",
    "       'area', 'equipped_kitchen_has', 'furnished', 'open_fire', 'terrace',\n",
    "       'garden'] #, 'building_state_agg'] #'region',\n",
    "for var in testColumns:\n",
    "    cT.TestIndependence(colX=var,colY=\"price\" )\n",
    "\n",
    "#Drop the features which are irrelevant as per chi-square '''\n",
    "df = df.drop(['furnished','garden'],axis = 1) #'property_subtype'"
   ]
  },
  {
   "cell_type": "code",
   "execution_count": 37,
   "metadata": {
    "pycharm": {
     "name": "#%%\n"
    }
   },
   "outputs": [],
   "source": [
    "#Use One Hot Encoding For postcodes\n",
    "dummies = pd.get_dummies(df,prefix= '',prefix_sep = '')\n",
    "#df = dummies.drop(['9999','to_renovate','B',],axis='columns') #FM add postcode if needed"
   ]
  },
  {
   "cell_type": "code",
   "execution_count": 38,
   "metadata": {
    "pycharm": {
     "name": "#%%\n"
    }
   },
   "outputs": [],
   "source": [
    "X = df.drop(['price'],axis='columns')\n",
    "y = df.price\n",
    "X_train, X_test, y_train, y_test = train_test_split(X,y,test_size=0.2,random_state=10)"
   ]
  },
  {
   "cell_type": "markdown",
   "metadata": {
    "pycharm": {
     "name": "#%% md\n"
    }
   },
   "source": [
    "## Machine Learning Model"
   ]
  },
  {
   "cell_type": "code",
   "execution_count": 39,
   "metadata": {
    "pycharm": {
     "name": "#%%\n"
    }
   },
   "outputs": [
    {
     "ename": "LinAlgError",
     "evalue": "SVD did not converge in Linear Least Squares",
     "output_type": "error",
     "traceback": [
      "\u001B[1;31m---------------------------------------------------------------------------\u001B[0m",
      "\u001B[1;31mLinAlgError\u001B[0m                               Traceback (most recent call last)",
      "\u001B[1;32m<ipython-input-39-0ad4743ee309>\u001B[0m in \u001B[0;36m<module>\u001B[1;34m\u001B[0m\n\u001B[0;32m      1\u001B[0m \u001B[1;31m#Returns a linear regression model fitted with Ordinary Least Squares method\u001B[0m\u001B[1;33m\u001B[0m\u001B[1;33m\u001B[0m\u001B[1;33m\u001B[0m\u001B[0m\n\u001B[1;32m----> 2\u001B[1;33m \u001B[0mlin_reg\u001B[0m \u001B[1;33m=\u001B[0m \u001B[0mmodeling\u001B[0m\u001B[1;33m.\u001B[0m\u001B[0mOLS_linear_regression\u001B[0m\u001B[1;33m(\u001B[0m\u001B[0mX_train\u001B[0m\u001B[1;33m,\u001B[0m \u001B[0my_train\u001B[0m\u001B[1;33m)\u001B[0m\u001B[1;33m\u001B[0m\u001B[1;33m\u001B[0m\u001B[0m\n\u001B[0m\u001B[0;32m      3\u001B[0m \u001B[1;31m#Plots learning curves (R² Score) based on training data and k-folds cross-validation\u001B[0m\u001B[1;33m\u001B[0m\u001B[1;33m\u001B[0m\u001B[1;33m\u001B[0m\u001B[0m\n\u001B[0;32m      4\u001B[0m \u001B[0mmodeling\u001B[0m\u001B[1;33m.\u001B[0m\u001B[0mplot_OLS_lin_reg_r2_curves\u001B[0m\u001B[1;33m(\u001B[0m\u001B[0mX_train\u001B[0m\u001B[1;33m,\u001B[0m \u001B[0my_train\u001B[0m\u001B[1;33m,\u001B[0m \u001B[0mnum_cv_folds\u001B[0m\u001B[1;33m=\u001B[0m\u001B[0mNUM_CV_FOLDS\u001B[0m\u001B[1;33m)\u001B[0m\u001B[1;33m\u001B[0m\u001B[1;33m\u001B[0m\u001B[0m\n\u001B[0;32m      5\u001B[0m \u001B[1;31m#Plots learning curves (Mean Squared Error) based on training data and k-folds cross-validation\u001B[0m\u001B[1;33m\u001B[0m\u001B[1;33m\u001B[0m\u001B[1;33m\u001B[0m\u001B[0m\n",
      "\u001B[1;32mF:\\belearner\\Belgium-prices-prediction\\source\\modeling.py\u001B[0m in \u001B[0;36mOLS_linear_regression\u001B[1;34m(X_train, y_train)\u001B[0m\n\u001B[0;32m     15\u001B[0m \u001B[1;33m\u001B[0m\u001B[0m\n\u001B[0;32m     16\u001B[0m     \u001B[0mlin_reg\u001B[0m \u001B[1;33m=\u001B[0m \u001B[0mLinearRegression\u001B[0m\u001B[1;33m(\u001B[0m\u001B[1;33m)\u001B[0m\u001B[1;33m\u001B[0m\u001B[1;33m\u001B[0m\u001B[0m\n\u001B[1;32m---> 17\u001B[1;33m     \u001B[0mlin_reg\u001B[0m\u001B[1;33m.\u001B[0m\u001B[0mfit\u001B[0m\u001B[1;33m(\u001B[0m\u001B[0mX_train\u001B[0m\u001B[1;33m,\u001B[0m \u001B[0my_train\u001B[0m\u001B[1;33m)\u001B[0m\u001B[1;33m\u001B[0m\u001B[1;33m\u001B[0m\u001B[0m\n\u001B[0m\u001B[0;32m     18\u001B[0m     \u001B[1;32mreturn\u001B[0m \u001B[0mlin_reg\u001B[0m\u001B[1;33m\u001B[0m\u001B[1;33m\u001B[0m\u001B[0m\n\u001B[0;32m     19\u001B[0m \u001B[1;33m\u001B[0m\u001B[0m\n",
      "\u001B[1;32mt:\\users\\fra\\appdata\\local\\programs\\python\\python37\\lib\\site-packages\\sklearn\\linear_model\\_base.py\u001B[0m in \u001B[0;36mfit\u001B[1;34m(self, X, y, sample_weight)\u001B[0m\n\u001B[0;32m    545\u001B[0m         \u001B[1;32melse\u001B[0m\u001B[1;33m:\u001B[0m\u001B[1;33m\u001B[0m\u001B[1;33m\u001B[0m\u001B[0m\n\u001B[0;32m    546\u001B[0m             \u001B[0mself\u001B[0m\u001B[1;33m.\u001B[0m\u001B[0mcoef_\u001B[0m\u001B[1;33m,\u001B[0m \u001B[0mself\u001B[0m\u001B[1;33m.\u001B[0m\u001B[0m_residues\u001B[0m\u001B[1;33m,\u001B[0m \u001B[0mself\u001B[0m\u001B[1;33m.\u001B[0m\u001B[0mrank_\u001B[0m\u001B[1;33m,\u001B[0m \u001B[0mself\u001B[0m\u001B[1;33m.\u001B[0m\u001B[0msingular_\u001B[0m \u001B[1;33m=\u001B[0m\u001B[0;31m \u001B[0m\u001B[0;31m\\\u001B[0m\u001B[1;33m\u001B[0m\u001B[1;33m\u001B[0m\u001B[0m\n\u001B[1;32m--> 547\u001B[1;33m                 \u001B[0mlinalg\u001B[0m\u001B[1;33m.\u001B[0m\u001B[0mlstsq\u001B[0m\u001B[1;33m(\u001B[0m\u001B[0mX\u001B[0m\u001B[1;33m,\u001B[0m \u001B[0my\u001B[0m\u001B[1;33m)\u001B[0m\u001B[1;33m\u001B[0m\u001B[1;33m\u001B[0m\u001B[0m\n\u001B[0m\u001B[0;32m    548\u001B[0m             \u001B[0mself\u001B[0m\u001B[1;33m.\u001B[0m\u001B[0mcoef_\u001B[0m \u001B[1;33m=\u001B[0m \u001B[0mself\u001B[0m\u001B[1;33m.\u001B[0m\u001B[0mcoef_\u001B[0m\u001B[1;33m.\u001B[0m\u001B[0mT\u001B[0m\u001B[1;33m\u001B[0m\u001B[1;33m\u001B[0m\u001B[0m\n\u001B[0;32m    549\u001B[0m \u001B[1;33m\u001B[0m\u001B[0m\n",
      "\u001B[1;32mt:\\users\\fra\\appdata\\local\\programs\\python\\python37\\lib\\site-packages\\scipy\\linalg\\basic.py\u001B[0m in \u001B[0;36mlstsq\u001B[1;34m(a, b, cond, overwrite_a, overwrite_b, check_finite, lapack_driver)\u001B[0m\n\u001B[0;32m   1219\u001B[0m                                                cond, False, False)\n\u001B[0;32m   1220\u001B[0m         \u001B[1;32mif\u001B[0m \u001B[0minfo\u001B[0m \u001B[1;33m>\u001B[0m \u001B[1;36m0\u001B[0m\u001B[1;33m:\u001B[0m\u001B[1;33m\u001B[0m\u001B[1;33m\u001B[0m\u001B[0m\n\u001B[1;32m-> 1221\u001B[1;33m             \u001B[1;32mraise\u001B[0m \u001B[0mLinAlgError\u001B[0m\u001B[1;33m(\u001B[0m\u001B[1;34m\"SVD did not converge in Linear Least Squares\"\u001B[0m\u001B[1;33m)\u001B[0m\u001B[1;33m\u001B[0m\u001B[1;33m\u001B[0m\u001B[0m\n\u001B[0m\u001B[0;32m   1222\u001B[0m         \u001B[1;32mif\u001B[0m \u001B[0minfo\u001B[0m \u001B[1;33m<\u001B[0m \u001B[1;36m0\u001B[0m\u001B[1;33m:\u001B[0m\u001B[1;33m\u001B[0m\u001B[1;33m\u001B[0m\u001B[0m\n\u001B[0;32m   1223\u001B[0m             raise ValueError('illegal value in %d-th argument of internal %s'\n",
      "\u001B[1;31mLinAlgError\u001B[0m: SVD did not converge in Linear Least Squares"
     ]
    }
   ],
   "source": [
    "#Returns a linear regression model fitted with Ordinary Least Squares method\n",
    "lin_reg = modeling.OLS_linear_regression(X_train, y_train)\n",
    "#Plots learning curves (R² Score) based on training data and k-folds cross-validation\n",
    "modeling.plot_OLS_lin_reg_r2_curves(X_train, y_train, num_cv_folds=NUM_CV_FOLDS)\n",
    "#Plots learning curves (Mean Squared Error) based on training data and k-folds cross-validation\n",
    "modeling.plot_OLS_lin_reg_MSE_curves(X_train, y_train, num_cv_folds=NUM_CV_FOLDS)"
   ]
  },
  {
   "cell_type": "code",
   "execution_count": null,
   "metadata": {
    "pycharm": {
     "name": "#%%\n"
    }
   },
   "outputs": [],
   "source": [
    "modeling.plot_poly_reg_validation_curves(X_train, y_train, num_cv_folds=NUM_CV_FOLDS, degree_max=DEGREE_MAX)"
   ]
  },
  {
   "cell_type": "markdown",
   "metadata": {},
   "source": [
    "## Model evaluation"
   ]
  },
  {
   "cell_type": "markdown",
   "metadata": {},
   "source": [
    "#### Correlation"
   ]
  },
  {
   "cell_type": "code",
   "execution_count": null,
   "metadata": {
    "pycharm": {
     "name": "#%%\n"
    }
   },
   "outputs": [],
   "source": [
    "plt.figure(figsize=(10,5))\n",
    "sns.heatmap(X.corr(),annot=True,cmap='RdYlGn')"
   ]
  },
  {
   "cell_type": "code",
   "execution_count": null,
   "metadata": {
    "pycharm": {
     "name": "#%%\n"
    }
   },
   "outputs": [],
   "source": [
    "def predict_price(model, prop_type, postcode, area, rooms, garden, terrace, prop_condition):\n",
    "    \"\"\"\n",
    "    Function predicts the price with random input data.\n",
    "\n",
    "\n",
    "    :param prop_type: property type data\n",
    "    :param postcode: postcode data\n",
    "    :param area: area\n",
    "    :param rooms: number of rooms\n",
    "    :param garden: garden\n",
    "    :param terrace: terrace\n",
    "    :param prop_condition: proeprty condition\n",
    "    :return: price value\n",
    "    \"\"\"\n",
    "    loc_index = np.where(X.columns == postcode)[0]\n",
    "    prop_condition_index = np.where(X.columns == prop_condition)[0]\n",
    "    x = np.zeros(len(X.columns))\n",
    "    x[0] = prop_type\n",
    "    x[1] = rooms\n",
    "    x[2] = area\n",
    "    x[3] = terrace\n",
    "    x[4] = garden\n",
    "\n",
    "    if loc_index >= 0:\n",
    "        x[loc_index] = 1\n",
    "\n",
    "    if prop_condition_index >= 0:\n",
    "        x[prop_condition_index] = 1\n",
    "    \n",
    "    return model.predict([x])[0]"
   ]
  },
  {
   "cell_type": "code",
   "execution_count": null,
   "metadata": {},
   "outputs": [],
   "source": [
    "#lin_reg contains our previously created model\n",
    "model_evaluation_obj = evaluation.Model_Evaluation(lin_reg)\n",
    "ytrain_predictions, ytest_predictions = model_evaluation_obj.get_predictions(X_train, X_test)\n",
    "model_evaluation_obj.predict_model(X_train, y_train, X_test, y_test)"
   ]
  },
  {
   "cell_type": "code",
   "execution_count": null,
   "metadata": {},
   "outputs": [],
   "source": [
    "predicted_price = predict_price(lin_reg, 1, 8300, 100 , 3, 1, 0,'good')\n",
    "print(predicted_price)"
   ]
  },
  {
   "cell_type": "code",
   "execution_count": null,
   "metadata": {},
   "outputs": [],
   "source": []
  }
 ],
 "metadata": {
  "kernelspec": {
   "display_name": "Python 3",
   "language": "python",
   "name": "python3"
  },
  "language_info": {
   "codemirror_mode": {
    "name": "ipython",
    "version": 3
   },
   "file_extension": ".py",
   "mimetype": "text/x-python",
   "name": "python",
   "nbconvert_exporter": "python",
   "pygments_lexer": "ipython3",
   "version": "3.8.3"
  }
 },
 "nbformat": 4,
 "nbformat_minor": 1
}